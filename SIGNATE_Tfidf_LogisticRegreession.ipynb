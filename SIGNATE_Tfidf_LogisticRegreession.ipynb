{
  "nbformat": 4,
  "nbformat_minor": 0,
  "metadata": {
    "colab": {
      "name": "SIGNATE Tfidf LogisticRegreession.ipynb",
      "provenance": [],
      "collapsed_sections": [],
      "mount_file_id": "1-SycYdwTIX12I2dsZQDKnbdqca-v6Y3b",
      "authorship_tag": "ABX9TyMKiaK3EKoWDw9cY7WnB+fT",
      "include_colab_link": true
    },
    "kernelspec": {
      "name": "python3",
      "display_name": "Python 3"
    }
  },
  "cells": [
    {
      "cell_type": "markdown",
      "metadata": {
        "id": "view-in-github",
        "colab_type": "text"
      },
      "source": [
        "<a href=\"https://colab.research.google.com/github/Radperia/SIGNATE_student_2020/blob/master/SIGNATE_Tfidf_LogisticRegreession.ipynb\" target=\"_parent\"><img src=\"https://colab.research.google.com/assets/colab-badge.svg\" alt=\"Open In Colab\"/></a>"
      ]
    },
    {
      "cell_type": "code",
      "metadata": {
        "id": "FRfvjcNzySCx",
        "colab_type": "code",
        "colab": {}
      },
      "source": [
        "import numpy as np\n",
        "import pandas as pd\n",
        "\n",
        "from sklearn.feature_extraction.text import TfidfVectorizer\n",
        "from sklearn.linear_model import LogisticRegression\n",
        "from sklearn.model_selection import cross_val_score\n",
        "from scipy.sparse import hstack"
      ],
      "execution_count": 2,
      "outputs": []
    },
    {
      "cell_type": "code",
      "metadata": {
        "id": "8mqamw31yhX0",
        "colab_type": "code",
        "colab": {}
      },
      "source": [
        "class_names = ['DataScientist', 'MachineLearningEngineer', 'SoftwareEngineer', 'Consultant']\n",
        "\n",
        "train = pd.read_csv('./drive/My Drive/SIGNATE/train.csv').fillna(' ')\n",
        "test = pd.read_csv('./drive/My Drive/SIGNATE/test.csv').fillna(' ')\n",
        "\n",
        "train_text = train['description']\n",
        "test_text = test['description']\n",
        "all_text = pd.concat([train_text, test_text])"
      ],
      "execution_count": 3,
      "outputs": []
    },
    {
      "cell_type": "code",
      "metadata": {
        "id": "fDUWTBjn0P3S",
        "colab_type": "code",
        "colab": {
          "base_uri": "https://localhost:8080/",
          "height": 35
        },
        "outputId": "9a5055c6-951a-4ebe-d4a4-eb9c70e344d1"
      },
      "source": [
        "train['DataScientist'] = 0\n",
        "train['MachineLearningEngineer'] = 0\n",
        "train['SoftwareEngineer'] = 0\n",
        "train['Consultant'] = 0\n",
        "\n",
        "print(train['jobflag'][2])"
      ],
      "execution_count": 23,
      "outputs": [
        {
          "output_type": "stream",
          "text": [
            "4\n"
          ],
          "name": "stdout"
        }
      ]
    },
    {
      "cell_type": "code",
      "metadata": {
        "id": "qd41VK6Q4IYn",
        "colab_type": "code",
        "colab": {
          "base_uri": "https://localhost:8080/",
          "height": 381
        },
        "outputId": "e55bedb5-bab1-46bf-e02a-a0c520145fc5"
      },
      "source": [
        "# カッコいい書き方が分からない\n",
        "\n",
        "for i in range(train.shape[0]):\n",
        "\n",
        "    if(train['jobflag'][i]==1):\n",
        "        train['DataScientist'][i]=1\n",
        "\n",
        "    elif(train['jobflag'][i]==2):\n",
        "        train['MachineLearningEngineer'][i]=1\n",
        "\n",
        "    elif(train['jobflag'][i]==3):\n",
        "        train['SoftwareEngineer'][i]=1\n",
        "        \n",
        "    elif(train['jobflag'][i]==4):\n",
        "        train['Consultant'][i]=1"
      ],
      "execution_count": 25,
      "outputs": [
        {
          "output_type": "stream",
          "text": [
            "/usr/local/lib/python3.6/dist-packages/ipykernel_launcher.py:5: SettingWithCopyWarning: \n",
            "A value is trying to be set on a copy of a slice from a DataFrame\n",
            "\n",
            "See the caveats in the documentation: https://pandas.pydata.org/pandas-docs/stable/user_guide/indexing.html#returning-a-view-versus-a-copy\n",
            "  \"\"\"\n",
            "/usr/local/lib/python3.6/dist-packages/ipykernel_launcher.py:7: SettingWithCopyWarning: \n",
            "A value is trying to be set on a copy of a slice from a DataFrame\n",
            "\n",
            "See the caveats in the documentation: https://pandas.pydata.org/pandas-docs/stable/user_guide/indexing.html#returning-a-view-versus-a-copy\n",
            "  import sys\n",
            "/usr/local/lib/python3.6/dist-packages/ipykernel_launcher.py:9: SettingWithCopyWarning: \n",
            "A value is trying to be set on a copy of a slice from a DataFrame\n",
            "\n",
            "See the caveats in the documentation: https://pandas.pydata.org/pandas-docs/stable/user_guide/indexing.html#returning-a-view-versus-a-copy\n",
            "  if __name__ == '__main__':\n",
            "/usr/local/lib/python3.6/dist-packages/ipykernel_launcher.py:3: SettingWithCopyWarning: \n",
            "A value is trying to be set on a copy of a slice from a DataFrame\n",
            "\n",
            "See the caveats in the documentation: https://pandas.pydata.org/pandas-docs/stable/user_guide/indexing.html#returning-a-view-versus-a-copy\n",
            "  This is separate from the ipykernel package so we can avoid doing imports until\n"
          ],
          "name": "stderr"
        }
      ]
    },
    {
      "cell_type": "code",
      "metadata": {
        "id": "HOMLXSTAzPc6",
        "colab_type": "code",
        "colab": {
          "base_uri": "https://localhost:8080/",
          "height": 198
        },
        "outputId": "ca1dca3f-bea5-4291-d2cf-9668eb54421e"
      },
      "source": [
        "train.head()"
      ],
      "execution_count": 26,
      "outputs": [
        {
          "output_type": "execute_result",
          "data": {
            "text/html": [
              "<div>\n",
              "<style scoped>\n",
              "    .dataframe tbody tr th:only-of-type {\n",
              "        vertical-align: middle;\n",
              "    }\n",
              "\n",
              "    .dataframe tbody tr th {\n",
              "        vertical-align: top;\n",
              "    }\n",
              "\n",
              "    .dataframe thead th {\n",
              "        text-align: right;\n",
              "    }\n",
              "</style>\n",
              "<table border=\"1\" class=\"dataframe\">\n",
              "  <thead>\n",
              "    <tr style=\"text-align: right;\">\n",
              "      <th></th>\n",
              "      <th>id</th>\n",
              "      <th>description</th>\n",
              "      <th>jobflag</th>\n",
              "      <th>DataScientist</th>\n",
              "      <th>MachineLearningEngineer</th>\n",
              "      <th>SoftwareEngineer</th>\n",
              "      <th>Consultant</th>\n",
              "    </tr>\n",
              "  </thead>\n",
              "  <tbody>\n",
              "    <tr>\n",
              "      <th>0</th>\n",
              "      <td>0</td>\n",
              "      <td>Executes and writes portions of testing plans,...</td>\n",
              "      <td>2</td>\n",
              "      <td>0</td>\n",
              "      <td>1</td>\n",
              "      <td>0</td>\n",
              "      <td>0</td>\n",
              "    </tr>\n",
              "    <tr>\n",
              "      <th>1</th>\n",
              "      <td>1</td>\n",
              "      <td>Maintain Network Performance by assisting with...</td>\n",
              "      <td>3</td>\n",
              "      <td>0</td>\n",
              "      <td>0</td>\n",
              "      <td>1</td>\n",
              "      <td>0</td>\n",
              "    </tr>\n",
              "    <tr>\n",
              "      <th>2</th>\n",
              "      <td>2</td>\n",
              "      <td>Supports the regional compliance manager with ...</td>\n",
              "      <td>4</td>\n",
              "      <td>0</td>\n",
              "      <td>0</td>\n",
              "      <td>0</td>\n",
              "      <td>1</td>\n",
              "    </tr>\n",
              "    <tr>\n",
              "      <th>3</th>\n",
              "      <td>3</td>\n",
              "      <td>Keep up to date with local and national busine...</td>\n",
              "      <td>1</td>\n",
              "      <td>1</td>\n",
              "      <td>0</td>\n",
              "      <td>0</td>\n",
              "      <td>0</td>\n",
              "    </tr>\n",
              "    <tr>\n",
              "      <th>4</th>\n",
              "      <td>4</td>\n",
              "      <td>Assist with Service Organization Control (SOC)...</td>\n",
              "      <td>4</td>\n",
              "      <td>0</td>\n",
              "      <td>0</td>\n",
              "      <td>0</td>\n",
              "      <td>1</td>\n",
              "    </tr>\n",
              "  </tbody>\n",
              "</table>\n",
              "</div>"
            ],
            "text/plain": [
              "   id  ... Consultant\n",
              "0   0  ...          0\n",
              "1   1  ...          0\n",
              "2   2  ...          1\n",
              "3   3  ...          0\n",
              "4   4  ...          1\n",
              "\n",
              "[5 rows x 7 columns]"
            ]
          },
          "metadata": {
            "tags": []
          },
          "execution_count": 26
        }
      ]
    },
    {
      "cell_type": "code",
      "metadata": {
        "id": "5f3H78gGGaXv",
        "colab_type": "code",
        "colab": {}
      },
      "source": [
        "from wordcloud import STOPWORDS\n",
        "from collections import defaultdict\n",
        "\n",
        "def generate_ngrams(text, n_gram=1):\n",
        "    token = [token for token in text.lower().split(' ') if token != '' if token not in STOPWORDS]\n",
        "    ngrams = zip(*[token[i:] for i in range(n_gram)])\n",
        "    return [' '.join(ngram) for ngram in ngrams]"
      ],
      "execution_count": 73,
      "outputs": []
    },
    {
      "cell_type": "code",
      "metadata": {
        "id": "M5wdIhXeHvGk",
        "colab_type": "code",
        "colab": {}
      },
      "source": [
        "DS = train['jobflag'] == 1\n",
        "MLE = train['jobflag'] == 2 \n",
        "SE = train['jobflag'] == 3\n",
        "C = train['jobflag'] == 4"
      ],
      "execution_count": 76,
      "outputs": []
    },
    {
      "cell_type": "code",
      "metadata": {
        "id": "QwkzrrogGmDp",
        "colab_type": "code",
        "colab": {}
      },
      "source": [
        "DS_bigrams = defaultdict(int)\n",
        "MLE_bigrams = defaultdict(int)\n",
        "SE_bigrams = defaultdict(int)\n",
        "C_bigrams = defaultdict(int)\n",
        "\n",
        "for desc in train[DS]['description']:\n",
        "    for word in generate_ngrams(desc, n_gram=2):\n",
        "        DS_bigrams[word] += 1\n",
        "\n",
        "for desc in train[MLE]['description']:\n",
        "    for word in generate_ngrams(desc, n_gram=2):\n",
        "        MLE_bigrams[word] += 1\n",
        "\n",
        "for desc in train[SE]['description']:\n",
        "    for word in generate_ngrams(desc, n_gram=2):\n",
        "        SE_bigrams[word] += 1\n",
        "\n",
        "for desc in train[C]['description']:\n",
        "    for word in generate_ngrams(desc, n_gram=2):\n",
        "        C_bigrams[word] += 1\n",
        "\n",
        "df_DS_bigrams = pd.DataFrame(sorted(DS_bigrams.items(), key=lambda x: x[1])[::-1])\n",
        "df_MLE_bigrams = pd.DataFrame(sorted(MLE_bigrams.items(), key=lambda x: x[1])[::-1])\n",
        "df_SE_bigrams = pd.DataFrame(sorted(SE_bigrams.items(), key=lambda x: x[1])[::-1])\n",
        "df_C_bigrams = pd.DataFrame(sorted(C_bigrams.items(), key=lambda x: x[1])[::-1])"
      ],
      "execution_count": 78,
      "outputs": []
    },
    {
      "cell_type": "code",
      "metadata": {
        "id": "c0sf5ZEMJVAQ",
        "colab_type": "code",
        "colab": {
          "base_uri": "https://localhost:8080/",
          "height": 407
        },
        "outputId": "06097b08-c3be-43b7-cd7f-b281ae04ebad"
      },
      "source": [
        "df_MLE_bigrams"
      ],
      "execution_count": 82,
      "outputs": [
        {
          "output_type": "execute_result",
          "data": {
            "text/html": [
              "<div>\n",
              "<style scoped>\n",
              "    .dataframe tbody tr th:only-of-type {\n",
              "        vertical-align: middle;\n",
              "    }\n",
              "\n",
              "    .dataframe tbody tr th {\n",
              "        vertical-align: top;\n",
              "    }\n",
              "\n",
              "    .dataframe thead th {\n",
              "        text-align: right;\n",
              "    }\n",
              "</style>\n",
              "<table border=\"1\" class=\"dataframe\">\n",
              "  <thead>\n",
              "    <tr style=\"text-align: right;\">\n",
              "      <th></th>\n",
              "      <th>0</th>\n",
              "      <th>1</th>\n",
              "    </tr>\n",
              "  </thead>\n",
              "  <tbody>\n",
              "    <tr>\n",
              "      <th>0</th>\n",
              "      <td>machine learning</td>\n",
              "      <td>52</td>\n",
              "    </tr>\n",
              "    <tr>\n",
              "      <th>1</th>\n",
              "      <td>data science</td>\n",
              "      <td>10</td>\n",
              "    </tr>\n",
              "    <tr>\n",
              "      <th>2</th>\n",
              "      <td>data scientists</td>\n",
              "      <td>9</td>\n",
              "    </tr>\n",
              "    <tr>\n",
              "      <th>3</th>\n",
              "      <td>learning models</td>\n",
              "      <td>8</td>\n",
              "    </tr>\n",
              "    <tr>\n",
              "      <th>4</th>\n",
              "      <td>work closely</td>\n",
              "      <td>8</td>\n",
              "    </tr>\n",
              "    <tr>\n",
              "      <th>...</th>\n",
              "      <td>...</td>\n",
              "      <td>...</td>\n",
              "    </tr>\n",
              "    <tr>\n",
              "      <th>2726</th>\n",
              "      <td>plans, protocols,</td>\n",
              "      <td>1</td>\n",
              "    </tr>\n",
              "    <tr>\n",
              "      <th>2727</th>\n",
              "      <td>testing plans,</td>\n",
              "      <td>1</td>\n",
              "    </tr>\n",
              "    <tr>\n",
              "      <th>2728</th>\n",
              "      <td>portions testing</td>\n",
              "      <td>1</td>\n",
              "    </tr>\n",
              "    <tr>\n",
              "      <th>2729</th>\n",
              "      <td>writes portions</td>\n",
              "      <td>1</td>\n",
              "    </tr>\n",
              "    <tr>\n",
              "      <th>2730</th>\n",
              "      <td>executes writes</td>\n",
              "      <td>1</td>\n",
              "    </tr>\n",
              "  </tbody>\n",
              "</table>\n",
              "<p>2731 rows × 2 columns</p>\n",
              "</div>"
            ],
            "text/plain": [
              "                      0   1\n",
              "0      machine learning  52\n",
              "1          data science  10\n",
              "2       data scientists   9\n",
              "3       learning models   8\n",
              "4          work closely   8\n",
              "...                 ...  ..\n",
              "2726  plans, protocols,   1\n",
              "2727     testing plans,   1\n",
              "2728   portions testing   1\n",
              "2729    writes portions   1\n",
              "2730    executes writes   1\n",
              "\n",
              "[2731 rows x 2 columns]"
            ]
          },
          "metadata": {
            "tags": []
          },
          "execution_count": 82
        }
      ]
    },
    {
      "cell_type": "code",
      "metadata": {
        "id": "fWm84NfTH1lO",
        "colab_type": "code",
        "colab": {}
      },
      "source": [
        "DS_trigrams = defaultdict(int)\n",
        "MLE_trigrams = defaultdict(int)\n",
        "SE_trigrams = defaultdict(int)\n",
        "C_trigrams = defaultdict(int)\n",
        "\n",
        "for desc in train[DS]['description']:\n",
        "    for word in generate_ngrams(desc, n_gram=3):\n",
        "        DS_trigrams[word] += 1\n",
        "\n",
        "for desc in train[MLE]['description']:\n",
        "    for word in generate_ngrams(desc, n_gram=3):\n",
        "        MLE_trigrams[word] += 1\n",
        "\n",
        "for desc in train[SE]['description']:\n",
        "    for word in generate_ngrams(desc, n_gram=3):\n",
        "        SE_trigrams[word] += 1\n",
        "\n",
        "for desc in train[C]['description']:\n",
        "    for word in generate_ngrams(desc, n_gram=3):\n",
        "        C_trigrams[word] += 1\n",
        "\n",
        "df_DS_trigrams = pd.DataFrame(sorted(DS_trigrams.items(), key=lambda x: x[1])[::-1])\n",
        "df_MLE_trigrams = pd.DataFrame(sorted(MLE_trigrams.items(), key=lambda x: x[1])[::-1])\n",
        "df_SE_trigrams = pd.DataFrame(sorted(SE_trigrams.items(), key=lambda x: x[1])[::-1])\n",
        "df_C_trigrams = pd.DataFrame(sorted(C_trigrams.items(), key=lambda x: x[1])[::-1])"
      ],
      "execution_count": 79,
      "outputs": []
    },
    {
      "cell_type": "code",
      "metadata": {
        "id": "dRrvnSVOIcmC",
        "colab_type": "code",
        "colab": {
          "base_uri": "https://localhost:8080/",
          "height": 407
        },
        "outputId": "f572b075-7d72-41e4-a58b-833195d1aa1a"
      },
      "source": [
        "df_MLE_trigrams"
      ],
      "execution_count": 83,
      "outputs": [
        {
          "output_type": "execute_result",
          "data": {
            "text/html": [
              "<div>\n",
              "<style scoped>\n",
              "    .dataframe tbody tr th:only-of-type {\n",
              "        vertical-align: middle;\n",
              "    }\n",
              "\n",
              "    .dataframe tbody tr th {\n",
              "        vertical-align: top;\n",
              "    }\n",
              "\n",
              "    .dataframe thead th {\n",
              "        text-align: right;\n",
              "    }\n",
              "</style>\n",
              "<table border=\"1\" class=\"dataframe\">\n",
              "  <thead>\n",
              "    <tr style=\"text-align: right;\">\n",
              "      <th></th>\n",
              "      <th>0</th>\n",
              "      <th>1</th>\n",
              "    </tr>\n",
              "  </thead>\n",
              "  <tbody>\n",
              "    <tr>\n",
              "      <th>0</th>\n",
              "      <td>machine learning models</td>\n",
              "      <td>8</td>\n",
              "    </tr>\n",
              "    <tr>\n",
              "      <th>1</th>\n",
              "      <td>work closely data</td>\n",
              "      <td>4</td>\n",
              "    </tr>\n",
              "    <tr>\n",
              "      <th>2</th>\n",
              "      <td>machine learning applications</td>\n",
              "      <td>4</td>\n",
              "    </tr>\n",
              "    <tr>\n",
              "      <th>3</th>\n",
              "      <td>develop machine learning</td>\n",
              "      <td>3</td>\n",
              "    </tr>\n",
              "    <tr>\n",
              "      <th>4</th>\n",
              "      <td>machine learning algorithms</td>\n",
              "      <td>3</td>\n",
              "    </tr>\n",
              "    <tr>\n",
              "      <th>...</th>\n",
              "      <td>...</td>\n",
              "      <td>...</td>\n",
              "    </tr>\n",
              "    <tr>\n",
              "      <th>2636</th>\n",
              "      <td>plans, protocols, documentation</td>\n",
              "      <td>1</td>\n",
              "    </tr>\n",
              "    <tr>\n",
              "      <th>2637</th>\n",
              "      <td>testing plans, protocols,</td>\n",
              "      <td>1</td>\n",
              "    </tr>\n",
              "    <tr>\n",
              "      <th>2638</th>\n",
              "      <td>portions testing plans,</td>\n",
              "      <td>1</td>\n",
              "    </tr>\n",
              "    <tr>\n",
              "      <th>2639</th>\n",
              "      <td>writes portions testing</td>\n",
              "      <td>1</td>\n",
              "    </tr>\n",
              "    <tr>\n",
              "      <th>2640</th>\n",
              "      <td>executes writes portions</td>\n",
              "      <td>1</td>\n",
              "    </tr>\n",
              "  </tbody>\n",
              "</table>\n",
              "<p>2641 rows × 2 columns</p>\n",
              "</div>"
            ],
            "text/plain": [
              "                                    0  1\n",
              "0             machine learning models  8\n",
              "1                   work closely data  4\n",
              "2       machine learning applications  4\n",
              "3            develop machine learning  3\n",
              "4         machine learning algorithms  3\n",
              "...                               ... ..\n",
              "2636  plans, protocols, documentation  1\n",
              "2637        testing plans, protocols,  1\n",
              "2638          portions testing plans,  1\n",
              "2639          writes portions testing  1\n",
              "2640         executes writes portions  1\n",
              "\n",
              "[2641 rows x 2 columns]"
            ]
          },
          "metadata": {
            "tags": []
          },
          "execution_count": 83
        }
      ]
    },
    {
      "cell_type": "code",
      "metadata": {
        "id": "Oe5L6sPwy88J",
        "colab_type": "code",
        "colab": {}
      },
      "source": [
        "word_vectorizer = TfidfVectorizer(\n",
        "    sublinear_tf=True,\n",
        "    strip_accents='unicode',\n",
        "    analyzer='word',\n",
        "    token_pattern=r'\\w{1,}',\n",
        "    stop_words='english',\n",
        "    ngram_range=(1, 1),\n",
        "    max_features=10000)\n",
        "word_vectorizer.fit(all_text)\n",
        "train_word_features = word_vectorizer.transform(train_text)\n",
        "test_word_features = word_vectorizer.transform(test_text)"
      ],
      "execution_count": 4,
      "outputs": []
    },
    {
      "cell_type": "code",
      "metadata": {
        "id": "cw8hhJZmzAGk",
        "colab_type": "code",
        "colab": {
          "base_uri": "https://localhost:8080/",
          "height": 54
        },
        "outputId": "ec44a721-07f2-4879-fe30-afdd690f18c6"
      },
      "source": [
        "char_vectorizer = TfidfVectorizer(\n",
        "    sublinear_tf=True,\n",
        "    strip_accents='unicode',\n",
        "    analyzer='char',\n",
        "    stop_words='english',\n",
        "    ngram_range=(2, 6),\n",
        "    max_features=50000)\n",
        "char_vectorizer.fit(all_text)\n",
        "train_char_features = char_vectorizer.transform(train_text)\n",
        "test_char_features = char_vectorizer.transform(test_text)"
      ],
      "execution_count": 5,
      "outputs": [
        {
          "output_type": "stream",
          "text": [
            "/usr/local/lib/python3.6/dist-packages/sklearn/feature_extraction/text.py:520: UserWarning: The parameter 'stop_words' will not be used since 'analyzer' != 'word'\n",
            "  warnings.warn(\"The parameter 'stop_words' will not be used\"\n"
          ],
          "name": "stderr"
        }
      ]
    },
    {
      "cell_type": "code",
      "metadata": {
        "id": "qK4FwrIuJdNx",
        "colab_type": "code",
        "colab": {}
      },
      "source": [
        "bigram_vectorizer = TfidfVectorizer(\n",
        "    sublinear_tf=True,\n",
        "    strip_accents='unicode',\n",
        "    analyzer='word',\n",
        "    token_pattern=r'\\w{1,}',\n",
        "    stop_words='english',\n",
        "    ngram_range=(2,2),\n",
        "    max_features=20000)\n",
        "bigram_vectorizer.fit(all_text)\n",
        "train_bigram_features = bigram_vectorizer.transform(train_text)\n",
        "test_bigram_features = bigram_vectorizer.transform(test_text)"
      ],
      "execution_count": 85,
      "outputs": []
    },
    {
      "cell_type": "code",
      "metadata": {
        "id": "9nPHsFQbK5_s",
        "colab_type": "code",
        "colab": {}
      },
      "source": [
        "trigram_vectorizer = TfidfVectorizer(\n",
        "    sublinear_tf=True,\n",
        "    strip_accents='unicode',\n",
        "    analyzer='word',\n",
        "    token_pattern=r'\\w{1,}',\n",
        "    stop_words='english',\n",
        "    ngram_range=(3,3),\n",
        "    max_features=20000)\n",
        "trigram_vectorizer.fit(all_text)\n",
        "train_trigram_features = trigram_vectorizer.transform(train_text)\n",
        "test_trigram_features = trigram_vectorizer.transform(test_text)"
      ],
      "execution_count": 86,
      "outputs": []
    },
    {
      "cell_type": "code",
      "metadata": {
        "id": "m3ADc6LgzCWZ",
        "colab_type": "code",
        "colab": {}
      },
      "source": [
        "train_features = hstack([train_char_features, train_word_features, train_bigram_features, train_trigram_features])\n",
        "test_features = hstack([test_char_features, test_word_features, test_bigram_features, test_trigram_features])"
      ],
      "execution_count": 87,
      "outputs": []
    },
    {
      "cell_type": "code",
      "metadata": {
        "id": "-dNbYyzKzJeX",
        "colab_type": "code",
        "colab": {
          "base_uri": "https://localhost:8080/",
          "height": 108
        },
        "outputId": "a8de970a-847f-4570-97ac-82d8a339ac81"
      },
      "source": [
        "scores = []\n",
        "submission = pd.DataFrame.from_dict({'id': test['id']})\n",
        "\n",
        "for class_name in class_names:\n",
        "    train_target = train[class_name]\n",
        "    classifier = LogisticRegression(C = 0.01, solver = 'sag', class_weight='balanced')\n",
        "\n",
        "    cv_score = np.mean(cross_val_score(classifier, train_features, train_target, cv=3, scoring = 'f1_macro'))\n",
        "    scores.append(cv_score)\n",
        "    print('CV score for class {} is {}'.format(class_name, cv_score))\n",
        "\n",
        "    classifier.fit(train_features, train_target)\n",
        "    submission[class_name] = classifier.predict_proba(test_features)[:, 1]\n",
        "\n",
        "print('Total CV score is {}',format(np.mean(scores)))"
      ],
      "execution_count": 88,
      "outputs": [
        {
          "output_type": "stream",
          "text": [
            "CV score for class DataScientist is 0.7666148794992873\n",
            "CV score for class MachineLearningEngineer is 0.6838723142222508\n",
            "CV score for class SoftwareEngineer is 0.752189504262768\n",
            "CV score for class Consultant is 0.70782007196956\n",
            "Total CV score is {} 0.7276241924884665\n"
          ],
          "name": "stdout"
        }
      ]
    },
    {
      "cell_type": "code",
      "metadata": {
        "id": "IJgmyWEx5nRd",
        "colab_type": "code",
        "colab": {
          "base_uri": "https://localhost:8080/",
          "height": 407
        },
        "outputId": "a30a0a1a-a7d9-4359-ad99-5ceb0c23d12c"
      },
      "source": [
        "submission"
      ],
      "execution_count": 89,
      "outputs": [
        {
          "output_type": "execute_result",
          "data": {
            "text/html": [
              "<div>\n",
              "<style scoped>\n",
              "    .dataframe tbody tr th:only-of-type {\n",
              "        vertical-align: middle;\n",
              "    }\n",
              "\n",
              "    .dataframe tbody tr th {\n",
              "        vertical-align: top;\n",
              "    }\n",
              "\n",
              "    .dataframe thead th {\n",
              "        text-align: right;\n",
              "    }\n",
              "</style>\n",
              "<table border=\"1\" class=\"dataframe\">\n",
              "  <thead>\n",
              "    <tr style=\"text-align: right;\">\n",
              "      <th></th>\n",
              "      <th>id</th>\n",
              "      <th>DataScientist</th>\n",
              "      <th>MachineLearningEngineer</th>\n",
              "      <th>SoftwareEngineer</th>\n",
              "      <th>Consultant</th>\n",
              "    </tr>\n",
              "  </thead>\n",
              "  <tbody>\n",
              "    <tr>\n",
              "      <th>0</th>\n",
              "      <td>2931</td>\n",
              "      <td>0.478353</td>\n",
              "      <td>0.480695</td>\n",
              "      <td>0.494427</td>\n",
              "      <td>0.504407</td>\n",
              "    </tr>\n",
              "    <tr>\n",
              "      <th>1</th>\n",
              "      <td>2932</td>\n",
              "      <td>0.465045</td>\n",
              "      <td>0.474013</td>\n",
              "      <td>0.513482</td>\n",
              "      <td>0.492999</td>\n",
              "    </tr>\n",
              "    <tr>\n",
              "      <th>2</th>\n",
              "      <td>2933</td>\n",
              "      <td>0.477363</td>\n",
              "      <td>0.480663</td>\n",
              "      <td>0.504661</td>\n",
              "      <td>0.489919</td>\n",
              "    </tr>\n",
              "    <tr>\n",
              "      <th>3</th>\n",
              "      <td>2934</td>\n",
              "      <td>0.548762</td>\n",
              "      <td>0.484074</td>\n",
              "      <td>0.454181</td>\n",
              "      <td>0.488724</td>\n",
              "    </tr>\n",
              "    <tr>\n",
              "      <th>4</th>\n",
              "      <td>2935</td>\n",
              "      <td>0.468126</td>\n",
              "      <td>0.455525</td>\n",
              "      <td>0.504594</td>\n",
              "      <td>0.516162</td>\n",
              "    </tr>\n",
              "    <tr>\n",
              "      <th>...</th>\n",
              "      <td>...</td>\n",
              "      <td>...</td>\n",
              "      <td>...</td>\n",
              "      <td>...</td>\n",
              "      <td>...</td>\n",
              "    </tr>\n",
              "    <tr>\n",
              "      <th>1738</th>\n",
              "      <td>4669</td>\n",
              "      <td>0.549844</td>\n",
              "      <td>0.464813</td>\n",
              "      <td>0.458268</td>\n",
              "      <td>0.493356</td>\n",
              "    </tr>\n",
              "    <tr>\n",
              "      <th>1739</th>\n",
              "      <td>4670</td>\n",
              "      <td>0.471038</td>\n",
              "      <td>0.469630</td>\n",
              "      <td>0.505404</td>\n",
              "      <td>0.502284</td>\n",
              "    </tr>\n",
              "    <tr>\n",
              "      <th>1740</th>\n",
              "      <td>4671</td>\n",
              "      <td>0.495077</td>\n",
              "      <td>0.480343</td>\n",
              "      <td>0.491056</td>\n",
              "      <td>0.492720</td>\n",
              "    </tr>\n",
              "    <tr>\n",
              "      <th>1741</th>\n",
              "      <td>4672</td>\n",
              "      <td>0.481673</td>\n",
              "      <td>0.462393</td>\n",
              "      <td>0.498150</td>\n",
              "      <td>0.506908</td>\n",
              "    </tr>\n",
              "    <tr>\n",
              "      <th>1742</th>\n",
              "      <td>4673</td>\n",
              "      <td>0.461995</td>\n",
              "      <td>0.469343</td>\n",
              "      <td>0.525167</td>\n",
              "      <td>0.480839</td>\n",
              "    </tr>\n",
              "  </tbody>\n",
              "</table>\n",
              "<p>1743 rows × 5 columns</p>\n",
              "</div>"
            ],
            "text/plain": [
              "        id  DataScientist  ...  SoftwareEngineer  Consultant\n",
              "0     2931       0.478353  ...          0.494427    0.504407\n",
              "1     2932       0.465045  ...          0.513482    0.492999\n",
              "2     2933       0.477363  ...          0.504661    0.489919\n",
              "3     2934       0.548762  ...          0.454181    0.488724\n",
              "4     2935       0.468126  ...          0.504594    0.516162\n",
              "...    ...            ...  ...               ...         ...\n",
              "1738  4669       0.549844  ...          0.458268    0.493356\n",
              "1739  4670       0.471038  ...          0.505404    0.502284\n",
              "1740  4671       0.495077  ...          0.491056    0.492720\n",
              "1741  4672       0.481673  ...          0.498150    0.506908\n",
              "1742  4673       0.461995  ...          0.525167    0.480839\n",
              "\n",
              "[1743 rows x 5 columns]"
            ]
          },
          "metadata": {
            "tags": []
          },
          "execution_count": 89
        }
      ]
    },
    {
      "cell_type": "code",
      "metadata": {
        "id": "gdR3KiAg8p4E",
        "colab_type": "code",
        "colab": {
          "base_uri": "https://localhost:8080/",
          "height": 108
        },
        "outputId": "0fcc1b7d-f224-44f4-841e-cae7a3f344e5"
      },
      "source": [
        "submission['flag'] = 0\n",
        "\n",
        "for i in range(submission.shape[0]):\n",
        "    submission['flag'][i] = np.stack([submission['DataScientist'][i], submission['MachineLearningEngineer'][i], submission['SoftwareEngineer'][i], submission['Consultant'][i]]).argmax() + 1"
      ],
      "execution_count": 90,
      "outputs": [
        {
          "output_type": "stream",
          "text": [
            "/usr/local/lib/python3.6/dist-packages/ipykernel_launcher.py:4: SettingWithCopyWarning: \n",
            "A value is trying to be set on a copy of a slice from a DataFrame\n",
            "\n",
            "See the caveats in the documentation: https://pandas.pydata.org/pandas-docs/stable/user_guide/indexing.html#returning-a-view-versus-a-copy\n",
            "  after removing the cwd from sys.path.\n"
          ],
          "name": "stderr"
        }
      ]
    },
    {
      "cell_type": "code",
      "metadata": {
        "id": "EHHCBSKw973E",
        "colab_type": "code",
        "colab": {
          "base_uri": "https://localhost:8080/",
          "height": 407
        },
        "outputId": "32836401-addb-4936-fcd6-b66c0f112b43"
      },
      "source": [
        "submission"
      ],
      "execution_count": 91,
      "outputs": [
        {
          "output_type": "execute_result",
          "data": {
            "text/html": [
              "<div>\n",
              "<style scoped>\n",
              "    .dataframe tbody tr th:only-of-type {\n",
              "        vertical-align: middle;\n",
              "    }\n",
              "\n",
              "    .dataframe tbody tr th {\n",
              "        vertical-align: top;\n",
              "    }\n",
              "\n",
              "    .dataframe thead th {\n",
              "        text-align: right;\n",
              "    }\n",
              "</style>\n",
              "<table border=\"1\" class=\"dataframe\">\n",
              "  <thead>\n",
              "    <tr style=\"text-align: right;\">\n",
              "      <th></th>\n",
              "      <th>id</th>\n",
              "      <th>DataScientist</th>\n",
              "      <th>MachineLearningEngineer</th>\n",
              "      <th>SoftwareEngineer</th>\n",
              "      <th>Consultant</th>\n",
              "      <th>flag</th>\n",
              "    </tr>\n",
              "  </thead>\n",
              "  <tbody>\n",
              "    <tr>\n",
              "      <th>0</th>\n",
              "      <td>2931</td>\n",
              "      <td>0.478353</td>\n",
              "      <td>0.480695</td>\n",
              "      <td>0.494427</td>\n",
              "      <td>0.504407</td>\n",
              "      <td>4</td>\n",
              "    </tr>\n",
              "    <tr>\n",
              "      <th>1</th>\n",
              "      <td>2932</td>\n",
              "      <td>0.465045</td>\n",
              "      <td>0.474013</td>\n",
              "      <td>0.513482</td>\n",
              "      <td>0.492999</td>\n",
              "      <td>3</td>\n",
              "    </tr>\n",
              "    <tr>\n",
              "      <th>2</th>\n",
              "      <td>2933</td>\n",
              "      <td>0.477363</td>\n",
              "      <td>0.480663</td>\n",
              "      <td>0.504661</td>\n",
              "      <td>0.489919</td>\n",
              "      <td>3</td>\n",
              "    </tr>\n",
              "    <tr>\n",
              "      <th>3</th>\n",
              "      <td>2934</td>\n",
              "      <td>0.548762</td>\n",
              "      <td>0.484074</td>\n",
              "      <td>0.454181</td>\n",
              "      <td>0.488724</td>\n",
              "      <td>1</td>\n",
              "    </tr>\n",
              "    <tr>\n",
              "      <th>4</th>\n",
              "      <td>2935</td>\n",
              "      <td>0.468126</td>\n",
              "      <td>0.455525</td>\n",
              "      <td>0.504594</td>\n",
              "      <td>0.516162</td>\n",
              "      <td>4</td>\n",
              "    </tr>\n",
              "    <tr>\n",
              "      <th>...</th>\n",
              "      <td>...</td>\n",
              "      <td>...</td>\n",
              "      <td>...</td>\n",
              "      <td>...</td>\n",
              "      <td>...</td>\n",
              "      <td>...</td>\n",
              "    </tr>\n",
              "    <tr>\n",
              "      <th>1738</th>\n",
              "      <td>4669</td>\n",
              "      <td>0.549844</td>\n",
              "      <td>0.464813</td>\n",
              "      <td>0.458268</td>\n",
              "      <td>0.493356</td>\n",
              "      <td>1</td>\n",
              "    </tr>\n",
              "    <tr>\n",
              "      <th>1739</th>\n",
              "      <td>4670</td>\n",
              "      <td>0.471038</td>\n",
              "      <td>0.469630</td>\n",
              "      <td>0.505404</td>\n",
              "      <td>0.502284</td>\n",
              "      <td>3</td>\n",
              "    </tr>\n",
              "    <tr>\n",
              "      <th>1740</th>\n",
              "      <td>4671</td>\n",
              "      <td>0.495077</td>\n",
              "      <td>0.480343</td>\n",
              "      <td>0.491056</td>\n",
              "      <td>0.492720</td>\n",
              "      <td>1</td>\n",
              "    </tr>\n",
              "    <tr>\n",
              "      <th>1741</th>\n",
              "      <td>4672</td>\n",
              "      <td>0.481673</td>\n",
              "      <td>0.462393</td>\n",
              "      <td>0.498150</td>\n",
              "      <td>0.506908</td>\n",
              "      <td>4</td>\n",
              "    </tr>\n",
              "    <tr>\n",
              "      <th>1742</th>\n",
              "      <td>4673</td>\n",
              "      <td>0.461995</td>\n",
              "      <td>0.469343</td>\n",
              "      <td>0.525167</td>\n",
              "      <td>0.480839</td>\n",
              "      <td>3</td>\n",
              "    </tr>\n",
              "  </tbody>\n",
              "</table>\n",
              "<p>1743 rows × 6 columns</p>\n",
              "</div>"
            ],
            "text/plain": [
              "        id  DataScientist  ...  Consultant  flag\n",
              "0     2931       0.478353  ...    0.504407     4\n",
              "1     2932       0.465045  ...    0.492999     3\n",
              "2     2933       0.477363  ...    0.489919     3\n",
              "3     2934       0.548762  ...    0.488724     1\n",
              "4     2935       0.468126  ...    0.516162     4\n",
              "...    ...            ...  ...         ...   ...\n",
              "1738  4669       0.549844  ...    0.493356     1\n",
              "1739  4670       0.471038  ...    0.502284     3\n",
              "1740  4671       0.495077  ...    0.492720     1\n",
              "1741  4672       0.481673  ...    0.506908     4\n",
              "1742  4673       0.461995  ...    0.480839     3\n",
              "\n",
              "[1743 rows x 6 columns]"
            ]
          },
          "metadata": {
            "tags": []
          },
          "execution_count": 91
        }
      ]
    },
    {
      "cell_type": "code",
      "metadata": {
        "id": "wH2O9uE__KBr",
        "colab_type": "code",
        "colab": {
          "base_uri": "https://localhost:8080/",
          "height": 283
        },
        "outputId": "e7947848-7499-48be-db4e-e51cb8ad3996"
      },
      "source": [
        "import seaborn as sns\n",
        "import matplotlib.pyplot as plt\n",
        "\n",
        "jobflag_vals = submission.flag.value_counts()\n",
        "sns.barplot(jobflag_vals.index, jobflag_vals)\n",
        "plt.gca().set_ylabel('samples')"
      ],
      "execution_count": 92,
      "outputs": [
        {
          "output_type": "execute_result",
          "data": {
            "text/plain": [
              "Text(0, 0.5, 'samples')"
            ]
          },
          "metadata": {
            "tags": []
          },
          "execution_count": 92
        },
        {
          "output_type": "display_data",
          "data": {
            "image/png": "[encoded data removed]",
            "text/plain": [
              "<Figure size 432x288 with 1 Axes>"
            ]
          },
          "metadata": {
            "tags": [],
            "needs_background": "light"
          }
        }
      ]
    },
    {
      "cell_type": "code",
      "metadata": {
        "id": "zsAwijHD-Djo",
        "colab_type": "code",
        "colab": {
          "base_uri": "https://localhost:8080/",
          "height": 17
        },
        "outputId": "30e2a188-8ff7-453e-bc7d-693feb84f95d"
      },
      "source": [
        "submission.to_csv('bi-tri_balanced_LR.csv', index=False)\n",
        "\n",
        "from google.colab import files\n",
        "files.download('bi-tri_balanced_LR.csv')"
      ],
      "execution_count": 93,
      "outputs": [
        {
          "output_type": "display_data",
          "data": {
            "application/javascript": [
              "\n",
              "    async function download(id, filename, size) {\n",
              "      if (!google.colab.kernel.accessAllowed) {\n",
              "        return;\n",
              "      }\n",
              "      const div = document.createElement('div');\n",
              "      const label = document.createElement('label');\n",
              "      label.textContent = `Downloading \"${filename}\": `;\n",
              "      div.appendChild(label);\n",
              "      const progress = document.createElement('progress');\n",
              "      progress.max = size;\n",
              "      div.appendChild(progress);\n",
              "      document.body.appendChild(div);\n",
              "\n",
              "      const buffers = [];\n",
              "      let downloaded = 0;\n",
              "\n",
              "      const channel = await google.colab.kernel.comms.open(id);\n",
              "      // Send a message to notify the kernel that we're ready.\n",
              "      channel.send({})\n",
              "\n",
              "      for await (const message of channel.messages) {\n",
              "        // Send a message to notify the kernel that we're ready.\n",
              "        channel.send({})\n",
              "        if (message.buffers) {\n",
              "          for (const buffer of message.buffers) {\n",
              "            buffers.push(buffer);\n",
              "            downloaded += buffer.byteLength;\n",
              "            progress.value = downloaded;\n",
              "          }\n",
              "        }\n",
              "      }\n",
              "      const blob = new Blob(buffers, {type: 'application/binary'});\n",
              "      const a = document.createElement('a');\n",
              "      a.href = window.URL.createObjectURL(blob);\n",
              "      a.download = filename;\n",
              "      div.appendChild(a);\n",
              "      a.click();\n",
              "      div.remove();\n",
              "    }\n",
              "  "
            ],
            "text/plain": [
              "<IPython.core.display.Javascript object>"
            ]
          },
          "metadata": {
            "tags": []
          }
        },
        {
          "output_type": "display_data",
          "data": {
            "application/javascript": [
              "download(\"download_1767bc55-2a95-4723-ae09-e2c75d574eb7\", \"bi-tri_balanced_LR.csv\", 146407)"
            ],
            "text/plain": [
              "<IPython.core.display.Javascript object>"
            ]
          },
          "metadata": {
            "tags": []
          }
        }
      ]
    },
    {
      "cell_type": "markdown",
      "metadata": {
        "id": "2OVGtPrwMBNm",
        "colab_type": "text"
      },
      "source": [
        "non bi-tri feature: 0.4462  \n",
        "bi-tri added feature: 0.427"
      ]
    }
  ]
}
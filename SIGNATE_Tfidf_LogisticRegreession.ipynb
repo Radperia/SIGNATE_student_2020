{
  "nbformat": 4,
  "nbformat_minor": 0,
  "metadata": {
    "colab": {
      "name": "SIGNATE Tfidf LogisticRegreession.ipynb",
      "provenance": [],
      "collapsed_sections": [],
      "mount_file_id": "1-SycYdwTIX12I2dsZQDKnbdqca-v6Y3b",
      "authorship_tag": "ABX9TyO/ajaE8p2lOr1PoIwAA1OI",
      "include_colab_link": true
    },
    "kernelspec": {
      "name": "python3",
      "display_name": "Python 3"
    }
  },
  "cells": [
    {
      "cell_type": "markdown",
      "metadata": {
        "id": "view-in-github",
        "colab_type": "text"
      },
      "source": [
        "<a href=\"https://colab.research.google.com/github/Radperia/SIGNATE_student_2020/blob/master/SIGNATE_Tfidf_LogisticRegreession.ipynb\" target=\"_parent\"><img src=\"https://colab.research.google.com/assets/colab-badge.svg\" alt=\"Open In Colab\"/></a>"
      ]
    },
    {
      "cell_type": "code",
      "metadata": {
        "id": "FRfvjcNzySCx",
        "colab_type": "code",
        "colab": {}
      },
      "source": [
        "import numpy as np\n",
        "import pandas as pd\n",
        "\n",
        "from sklearn.feature_extraction.text import TfidfVectorizer\n",
        "from sklearn.linear_model import LogisticRegression\n",
        "from sklearn.model_selection import cross_val_score\n",
        "from scipy.sparse import hstack"
      ],
      "execution_count": 2,
      "outputs": []
    },
    {
      "cell_type": "code",
      "metadata": {
        "id": "8mqamw31yhX0",
        "colab_type": "code",
        "colab": {}
      },
      "source": [
        "class_names = ['DataScientist', 'MachineLearningEngineer', 'SoftwareEngineer', 'Consultant']\n",
        "\n",
        "train = pd.read_csv('./drive/My Drive/SIGNATE/train.csv').fillna(' ')\n",
        "test = pd.read_csv('./drive/My Drive/SIGNATE/test.csv').fillna(' ')\n",
        "\n",
        "train_text = train['description']\n",
        "test_text = test['description']\n",
        "all_text = pd.concat([train_text, test_text])"
      ],
      "execution_count": 3,
      "outputs": []
    },
    {
      "cell_type": "code",
      "metadata": {
        "id": "fDUWTBjn0P3S",
        "colab_type": "code",
        "colab": {
          "base_uri": "https://localhost:8080/",
          "height": 35
        },
        "outputId": "9a5055c6-951a-4ebe-d4a4-eb9c70e344d1"
      },
      "source": [
        "train['DataScientist'] = 0\n",
        "train['MachineLearningEngineer'] = 0\n",
        "train['SoftwareEngineer'] = 0\n",
        "train['Consultant'] = 0\n",
        "\n",
        "print(train['jobflag'][2])"
      ],
      "execution_count": 23,
      "outputs": [
        {
          "output_type": "stream",
          "text": [
            "4\n"
          ],
          "name": "stdout"
        }
      ]
    },
    {
      "cell_type": "code",
      "metadata": {
        "id": "qd41VK6Q4IYn",
        "colab_type": "code",
        "colab": {
          "base_uri": "https://localhost:8080/",
          "height": 381
        },
        "outputId": "e55bedb5-bab1-46bf-e02a-a0c520145fc5"
      },
      "source": [
        "# カッコいい書き方が分からない\n",
        "\n",
        "for i in range(train.shape[0]):\n",
        "    if(train['jobflag'][i]==1):\n",
        "        train['DataScientist'][i]=1\n",
        "    elif(train['jobflag'][i]==2):\n",
        "        train['MachineLearningEngineer'][i]=1\n",
        "    elif(train['jobflag'][i]==3):\n",
        "        train['SoftwareEngineer'][i]=1\n",
        "    elif(train['jobflag'][i]==4):\n",
        "        train['Consultant'][i]=1"
      ],
      "execution_count": 25,
      "outputs": [
        {
          "output_type": "stream",
          "text": [
            "/usr/local/lib/python3.6/dist-packages/ipykernel_launcher.py:5: SettingWithCopyWarning: \n",
            "A value is trying to be set on a copy of a slice from a DataFrame\n",
            "\n",
            "See the caveats in the documentation: https://pandas.pydata.org/pandas-docs/stable/user_guide/indexing.html#returning-a-view-versus-a-copy\n",
            "  \"\"\"\n",
            "/usr/local/lib/python3.6/dist-packages/ipykernel_launcher.py:7: SettingWithCopyWarning: \n",
            "A value is trying to be set on a copy of a slice from a DataFrame\n",
            "\n",
            "See the caveats in the documentation: https://pandas.pydata.org/pandas-docs/stable/user_guide/indexing.html#returning-a-view-versus-a-copy\n",
            "  import sys\n",
            "/usr/local/lib/python3.6/dist-packages/ipykernel_launcher.py:9: SettingWithCopyWarning: \n",
            "A value is trying to be set on a copy of a slice from a DataFrame\n",
            "\n",
            "See the caveats in the documentation: https://pandas.pydata.org/pandas-docs/stable/user_guide/indexing.html#returning-a-view-versus-a-copy\n",
            "  if __name__ == '__main__':\n",
            "/usr/local/lib/python3.6/dist-packages/ipykernel_launcher.py:3: SettingWithCopyWarning: \n",
            "A value is trying to be set on a copy of a slice from a DataFrame\n",
            "\n",
            "See the caveats in the documentation: https://pandas.pydata.org/pandas-docs/stable/user_guide/indexing.html#returning-a-view-versus-a-copy\n",
            "  This is separate from the ipykernel package so we can avoid doing imports until\n"
          ],
          "name": "stderr"
        }
      ]
    },
    {
      "cell_type": "code",
      "metadata": {
        "id": "HOMLXSTAzPc6",
        "colab_type": "code",
        "colab": {
          "base_uri": "https://localhost:8080/",
          "height": 198
        },
        "outputId": "ca1dca3f-bea5-4291-d2cf-9668eb54421e"
      },
      "source": [
        "train.head()"
      ],
      "execution_count": 26,
      "outputs": [
        {
          "output_type": "execute_result",
          "data": {
            "text/html": [
              "<div>\n",
              "<style scoped>\n",
              "    .dataframe tbody tr th:only-of-type {\n",
              "        vertical-align: middle;\n",
              "    }\n",
              "\n",
              "    .dataframe tbody tr th {\n",
              "        vertical-align: top;\n",
              "    }\n",
              "\n",
              "    .dataframe thead th {\n",
              "        text-align: right;\n",
              "    }\n",
              "</style>\n",
              "<table border=\"1\" class=\"dataframe\">\n",
              "  <thead>\n",
              "    <tr style=\"text-align: right;\">\n",
              "      <th></th>\n",
              "      <th>id</th>\n",
              "      <th>description</th>\n",
              "      <th>jobflag</th>\n",
              "      <th>DataScientist</th>\n",
              "      <th>MachineLearningEngineer</th>\n",
              "      <th>SoftwareEngineer</th>\n",
              "      <th>Consultant</th>\n",
              "    </tr>\n",
              "  </thead>\n",
              "  <tbody>\n",
              "    <tr>\n",
              "      <th>0</th>\n",
              "      <td>0</td>\n",
              "      <td>Executes and writes portions of testing plans,...</td>\n",
              "      <td>2</td>\n",
              "      <td>0</td>\n",
              "      <td>1</td>\n",
              "      <td>0</td>\n",
              "      <td>0</td>\n",
              "    </tr>\n",
              "    <tr>\n",
              "      <th>1</th>\n",
              "      <td>1</td>\n",
              "      <td>Maintain Network Performance by assisting with...</td>\n",
              "      <td>3</td>\n",
              "      <td>0</td>\n",
              "      <td>0</td>\n",
              "      <td>1</td>\n",
              "      <td>0</td>\n",
              "    </tr>\n",
              "    <tr>\n",
              "      <th>2</th>\n",
              "      <td>2</td>\n",
              "      <td>Supports the regional compliance manager with ...</td>\n",
              "      <td>4</td>\n",
              "      <td>0</td>\n",
              "      <td>0</td>\n",
              "      <td>0</td>\n",
              "      <td>1</td>\n",
              "    </tr>\n",
              "    <tr>\n",
              "      <th>3</th>\n",
              "      <td>3</td>\n",
              "      <td>Keep up to date with local and national busine...</td>\n",
              "      <td>1</td>\n",
              "      <td>1</td>\n",
              "      <td>0</td>\n",
              "      <td>0</td>\n",
              "      <td>0</td>\n",
              "    </tr>\n",
              "    <tr>\n",
              "      <th>4</th>\n",
              "      <td>4</td>\n",
              "      <td>Assist with Service Organization Control (SOC)...</td>\n",
              "      <td>4</td>\n",
              "      <td>0</td>\n",
              "      <td>0</td>\n",
              "      <td>0</td>\n",
              "      <td>1</td>\n",
              "    </tr>\n",
              "  </tbody>\n",
              "</table>\n",
              "</div>"
            ],
            "text/plain": [
              "   id  ... Consultant\n",
              "0   0  ...          0\n",
              "1   1  ...          0\n",
              "2   2  ...          1\n",
              "3   3  ...          0\n",
              "4   4  ...          1\n",
              "\n",
              "[5 rows x 7 columns]"
            ]
          },
          "metadata": {
            "tags": []
          },
          "execution_count": 26
        }
      ]
    },
    {
      "cell_type": "code",
      "metadata": {
        "id": "Oe5L6sPwy88J",
        "colab_type": "code",
        "colab": {}
      },
      "source": [
        "word_vectorizer = TfidfVectorizer(\n",
        "    sublinear_tf=True,\n",
        "    strip_accents='unicode',\n",
        "    analyzer='word',\n",
        "    token_pattern=r'\\w{1,}',\n",
        "    stop_words='english',\n",
        "    ngram_range=(1, 1),\n",
        "    max_features=10000)\n",
        "word_vectorizer.fit(all_text)\n",
        "train_word_features = word_vectorizer.transform(train_text)\n",
        "test_word_features = word_vectorizer.transform(test_text)"
      ],
      "execution_count": 4,
      "outputs": []
    },
    {
      "cell_type": "code",
      "metadata": {
        "id": "cw8hhJZmzAGk",
        "colab_type": "code",
        "colab": {
          "base_uri": "https://localhost:8080/",
          "height": 54
        },
        "outputId": "ec44a721-07f2-4879-fe30-afdd690f18c6"
      },
      "source": [
        "char_vectorizer = TfidfVectorizer(\n",
        "    sublinear_tf=True,\n",
        "    strip_accents='unicode',\n",
        "    analyzer='char',\n",
        "    stop_words='english',\n",
        "    ngram_range=(2, 6),\n",
        "    max_features=50000)\n",
        "char_vectorizer.fit(all_text)\n",
        "train_char_features = char_vectorizer.transform(train_text)\n",
        "test_char_features = char_vectorizer.transform(test_text)"
      ],
      "execution_count": 5,
      "outputs": [
        {
          "output_type": "stream",
          "text": [
            "/usr/local/lib/python3.6/dist-packages/sklearn/feature_extraction/text.py:520: UserWarning: The parameter 'stop_words' will not be used since 'analyzer' != 'word'\n",
            "  warnings.warn(\"The parameter 'stop_words' will not be used\"\n"
          ],
          "name": "stderr"
        }
      ]
    },
    {
      "cell_type": "code",
      "metadata": {
        "id": "m3ADc6LgzCWZ",
        "colab_type": "code",
        "colab": {}
      },
      "source": [
        "train_features = hstack([train_char_features, train_word_features])\n",
        "test_features = hstack([test_char_features, test_word_features])"
      ],
      "execution_count": 6,
      "outputs": []
    },
    {
      "cell_type": "code",
      "metadata": {
        "id": "-dNbYyzKzJeX",
        "colab_type": "code",
        "colab": {
          "base_uri": "https://localhost:8080/",
          "height": 108
        },
        "outputId": "1c9812b1-c6b2-4a97-a378-545e55c7c5da"
      },
      "source": [
        "scores = []\n",
        "submission = pd.DataFrame.from_dict({'id': test['id']})\n",
        "\n",
        "for class_name in class_names:\n",
        "    train_target = train[class_name]\n",
        "    classifier = LogisticRegression(C = 0.1, solver = 'sag', class_weight='balanced')\n",
        "\n",
        "    cv_score = np.mean(cross_val_score(classifier, train_features, train_target, cv=3, scoring = 'f1_macro'))\n",
        "    scores.append(cv_score)\n",
        "    print('CV score for class {} is {}'.format(class_name, cv_score))\n",
        "\n",
        "    classifier.fit(train_features, train_target)\n",
        "    submission[class_name] = classifier.predict_proba(test_features)[:, 1]\n",
        "\n",
        "print('Total CV score is {}',format(np.mean(scores)))"
      ],
      "execution_count": 67,
      "outputs": [
        {
          "output_type": "stream",
          "text": [
            "CV score for class DataScientist is 0.7743804552297915\n",
            "CV score for class MachineLearningEngineer is 0.6765586111874455\n",
            "CV score for class SoftwareEngineer is 0.7554248796077404\n",
            "CV score for class Consultant is 0.6946674426920397\n",
            "Total CV score is {} 0.7252578471792543\n"
          ],
          "name": "stdout"
        }
      ]
    },
    {
      "cell_type": "code",
      "metadata": {
        "id": "IJgmyWEx5nRd",
        "colab_type": "code",
        "colab": {
          "base_uri": "https://localhost:8080/",
          "height": 407
        },
        "outputId": "bb76f576-9e52-4141-8376-0d5ed664aa0e"
      },
      "source": [
        "submission"
      ],
      "execution_count": 68,
      "outputs": [
        {
          "output_type": "execute_result",
          "data": {
            "text/html": [
              "<div>\n",
              "<style scoped>\n",
              "    .dataframe tbody tr th:only-of-type {\n",
              "        vertical-align: middle;\n",
              "    }\n",
              "\n",
              "    .dataframe tbody tr th {\n",
              "        vertical-align: top;\n",
              "    }\n",
              "\n",
              "    .dataframe thead th {\n",
              "        text-align: right;\n",
              "    }\n",
              "</style>\n",
              "<table border=\"1\" class=\"dataframe\">\n",
              "  <thead>\n",
              "    <tr style=\"text-align: right;\">\n",
              "      <th></th>\n",
              "      <th>id</th>\n",
              "      <th>DataScientist</th>\n",
              "      <th>MachineLearningEngineer</th>\n",
              "      <th>SoftwareEngineer</th>\n",
              "      <th>Consultant</th>\n",
              "    </tr>\n",
              "  </thead>\n",
              "  <tbody>\n",
              "    <tr>\n",
              "      <th>0</th>\n",
              "      <td>2931</td>\n",
              "      <td>0.403644</td>\n",
              "      <td>0.417116</td>\n",
              "      <td>0.455539</td>\n",
              "      <td>0.553538</td>\n",
              "    </tr>\n",
              "    <tr>\n",
              "      <th>1</th>\n",
              "      <td>2932</td>\n",
              "      <td>0.323030</td>\n",
              "      <td>0.401911</td>\n",
              "      <td>0.571169</td>\n",
              "      <td>0.473124</td>\n",
              "    </tr>\n",
              "    <tr>\n",
              "      <th>2</th>\n",
              "      <td>2933</td>\n",
              "      <td>0.386227</td>\n",
              "      <td>0.434306</td>\n",
              "      <td>0.539379</td>\n",
              "      <td>0.449900</td>\n",
              "    </tr>\n",
              "    <tr>\n",
              "      <th>3</th>\n",
              "      <td>2934</td>\n",
              "      <td>0.748689</td>\n",
              "      <td>0.441437</td>\n",
              "      <td>0.261718</td>\n",
              "      <td>0.430377</td>\n",
              "    </tr>\n",
              "    <tr>\n",
              "      <th>4</th>\n",
              "      <td>2935</td>\n",
              "      <td>0.350733</td>\n",
              "      <td>0.280741</td>\n",
              "      <td>0.522598</td>\n",
              "      <td>0.607325</td>\n",
              "    </tr>\n",
              "    <tr>\n",
              "      <th>...</th>\n",
              "      <td>...</td>\n",
              "      <td>...</td>\n",
              "      <td>...</td>\n",
              "      <td>...</td>\n",
              "      <td>...</td>\n",
              "    </tr>\n",
              "    <tr>\n",
              "      <th>1738</th>\n",
              "      <td>4669</td>\n",
              "      <td>0.740106</td>\n",
              "      <td>0.328287</td>\n",
              "      <td>0.281831</td>\n",
              "      <td>0.468838</td>\n",
              "    </tr>\n",
              "    <tr>\n",
              "      <th>1739</th>\n",
              "      <td>4670</td>\n",
              "      <td>0.349762</td>\n",
              "      <td>0.363716</td>\n",
              "      <td>0.537742</td>\n",
              "      <td>0.521873</td>\n",
              "    </tr>\n",
              "    <tr>\n",
              "      <th>1740</th>\n",
              "      <td>4671</td>\n",
              "      <td>0.503422</td>\n",
              "      <td>0.434173</td>\n",
              "      <td>0.445981</td>\n",
              "      <td>0.462055</td>\n",
              "    </tr>\n",
              "    <tr>\n",
              "      <th>1741</th>\n",
              "      <td>4672</td>\n",
              "      <td>0.409640</td>\n",
              "      <td>0.337619</td>\n",
              "      <td>0.483944</td>\n",
              "      <td>0.549001</td>\n",
              "    </tr>\n",
              "    <tr>\n",
              "      <th>1742</th>\n",
              "      <td>4673</td>\n",
              "      <td>0.316896</td>\n",
              "      <td>0.370747</td>\n",
              "      <td>0.632480</td>\n",
              "      <td>0.393114</td>\n",
              "    </tr>\n",
              "  </tbody>\n",
              "</table>\n",
              "<p>1743 rows × 5 columns</p>\n",
              "</div>"
            ],
            "text/plain": [
              "        id  DataScientist  ...  SoftwareEngineer  Consultant\n",
              "0     2931       0.403644  ...          0.455539    0.553538\n",
              "1     2932       0.323030  ...          0.571169    0.473124\n",
              "2     2933       0.386227  ...          0.539379    0.449900\n",
              "3     2934       0.748689  ...          0.261718    0.430377\n",
              "4     2935       0.350733  ...          0.522598    0.607325\n",
              "...    ...            ...  ...               ...         ...\n",
              "1738  4669       0.740106  ...          0.281831    0.468838\n",
              "1739  4670       0.349762  ...          0.537742    0.521873\n",
              "1740  4671       0.503422  ...          0.445981    0.462055\n",
              "1741  4672       0.409640  ...          0.483944    0.549001\n",
              "1742  4673       0.316896  ...          0.632480    0.393114\n",
              "\n",
              "[1743 rows x 5 columns]"
            ]
          },
          "metadata": {
            "tags": []
          },
          "execution_count": 68
        }
      ]
    },
    {
      "cell_type": "code",
      "metadata": {
        "id": "gdR3KiAg8p4E",
        "colab_type": "code",
        "colab": {
          "base_uri": "https://localhost:8080/",
          "height": 108
        },
        "outputId": "a2e9f33b-0434-45cf-b583-5719a613a2cf"
      },
      "source": [
        "submission['flag'] = 0\n",
        "\n",
        "for i in range(submission.shape[0]):\n",
        "    submission['flag'][i] = np.stack([submission['DataScientist'][i], submission['MachineLearningEngineer'][i], submission['SoftwareEngineer'][i], submission['Consultant'][i]]).argmax() + 1"
      ],
      "execution_count": 69,
      "outputs": [
        {
          "output_type": "stream",
          "text": [
            "/usr/local/lib/python3.6/dist-packages/ipykernel_launcher.py:4: SettingWithCopyWarning: \n",
            "A value is trying to be set on a copy of a slice from a DataFrame\n",
            "\n",
            "See the caveats in the documentation: https://pandas.pydata.org/pandas-docs/stable/user_guide/indexing.html#returning-a-view-versus-a-copy\n",
            "  after removing the cwd from sys.path.\n"
          ],
          "name": "stderr"
        }
      ]
    },
    {
      "cell_type": "code",
      "metadata": {
        "id": "EHHCBSKw973E",
        "colab_type": "code",
        "colab": {
          "base_uri": "https://localhost:8080/",
          "height": 407
        },
        "outputId": "0f77f696-9252-40e1-ad27-61b65a2fedfd"
      },
      "source": [
        "submission"
      ],
      "execution_count": 63,
      "outputs": [
        {
          "output_type": "execute_result",
          "data": {
            "text/html": [
              "<div>\n",
              "<style scoped>\n",
              "    .dataframe tbody tr th:only-of-type {\n",
              "        vertical-align: middle;\n",
              "    }\n",
              "\n",
              "    .dataframe tbody tr th {\n",
              "        vertical-align: top;\n",
              "    }\n",
              "\n",
              "    .dataframe thead th {\n",
              "        text-align: right;\n",
              "    }\n",
              "</style>\n",
              "<table border=\"1\" class=\"dataframe\">\n",
              "  <thead>\n",
              "    <tr style=\"text-align: right;\">\n",
              "      <th></th>\n",
              "      <th>id</th>\n",
              "      <th>DataScientist</th>\n",
              "      <th>MachineLearningEngineer</th>\n",
              "      <th>SoftwareEngineer</th>\n",
              "      <th>Consultant</th>\n",
              "      <th>flag</th>\n",
              "    </tr>\n",
              "  </thead>\n",
              "  <tbody>\n",
              "    <tr>\n",
              "      <th>0</th>\n",
              "      <td>2931</td>\n",
              "      <td>0.181715</td>\n",
              "      <td>0.115755</td>\n",
              "      <td>0.428288</td>\n",
              "      <td>0.249343</td>\n",
              "      <td>3</td>\n",
              "    </tr>\n",
              "    <tr>\n",
              "      <th>1</th>\n",
              "      <td>2932</td>\n",
              "      <td>0.148002</td>\n",
              "      <td>0.108233</td>\n",
              "      <td>0.544448</td>\n",
              "      <td>0.206363</td>\n",
              "      <td>3</td>\n",
              "    </tr>\n",
              "    <tr>\n",
              "      <th>2</th>\n",
              "      <td>2933</td>\n",
              "      <td>0.175246</td>\n",
              "      <td>0.117025</td>\n",
              "      <td>0.512206</td>\n",
              "      <td>0.193328</td>\n",
              "      <td>3</td>\n",
              "    </tr>\n",
              "    <tr>\n",
              "      <th>3</th>\n",
              "      <td>2934</td>\n",
              "      <td>0.440746</td>\n",
              "      <td>0.118859</td>\n",
              "      <td>0.242351</td>\n",
              "      <td>0.187284</td>\n",
              "      <td>1</td>\n",
              "    </tr>\n",
              "    <tr>\n",
              "      <th>4</th>\n",
              "      <td>2935</td>\n",
              "      <td>0.157103</td>\n",
              "      <td>0.084671</td>\n",
              "      <td>0.495168</td>\n",
              "      <td>0.283533</td>\n",
              "      <td>3</td>\n",
              "    </tr>\n",
              "    <tr>\n",
              "      <th>...</th>\n",
              "      <td>...</td>\n",
              "      <td>...</td>\n",
              "      <td>...</td>\n",
              "      <td>...</td>\n",
              "      <td>...</td>\n",
              "      <td>...</td>\n",
              "    </tr>\n",
              "    <tr>\n",
              "      <th>1738</th>\n",
              "      <td>4669</td>\n",
              "      <td>0.436159</td>\n",
              "      <td>0.095462</td>\n",
              "      <td>0.261436</td>\n",
              "      <td>0.206193</td>\n",
              "      <td>1</td>\n",
              "    </tr>\n",
              "    <tr>\n",
              "      <th>1739</th>\n",
              "      <td>4670</td>\n",
              "      <td>0.161105</td>\n",
              "      <td>0.101508</td>\n",
              "      <td>0.510126</td>\n",
              "      <td>0.232286</td>\n",
              "      <td>3</td>\n",
              "    </tr>\n",
              "    <tr>\n",
              "      <th>1740</th>\n",
              "      <td>4671</td>\n",
              "      <td>0.233000</td>\n",
              "      <td>0.117205</td>\n",
              "      <td>0.419055</td>\n",
              "      <td>0.200442</td>\n",
              "      <td>3</td>\n",
              "    </tr>\n",
              "    <tr>\n",
              "      <th>1741</th>\n",
              "      <td>4672</td>\n",
              "      <td>0.191930</td>\n",
              "      <td>0.095421</td>\n",
              "      <td>0.457131</td>\n",
              "      <td>0.249083</td>\n",
              "      <td>3</td>\n",
              "    </tr>\n",
              "    <tr>\n",
              "      <th>1742</th>\n",
              "      <td>4673</td>\n",
              "      <td>0.144532</td>\n",
              "      <td>0.102799</td>\n",
              "      <td>0.607110</td>\n",
              "      <td>0.169623</td>\n",
              "      <td>3</td>\n",
              "    </tr>\n",
              "  </tbody>\n",
              "</table>\n",
              "<p>1743 rows × 6 columns</p>\n",
              "</div>"
            ],
            "text/plain": [
              "        id  DataScientist  ...  Consultant  flag\n",
              "0     2931       0.181715  ...    0.249343     3\n",
              "1     2932       0.148002  ...    0.206363     3\n",
              "2     2933       0.175246  ...    0.193328     3\n",
              "3     2934       0.440746  ...    0.187284     1\n",
              "4     2935       0.157103  ...    0.283533     3\n",
              "...    ...            ...  ...         ...   ...\n",
              "1738  4669       0.436159  ...    0.206193     1\n",
              "1739  4670       0.161105  ...    0.232286     3\n",
              "1740  4671       0.233000  ...    0.200442     3\n",
              "1741  4672       0.191930  ...    0.249083     3\n",
              "1742  4673       0.144532  ...    0.169623     3\n",
              "\n",
              "[1743 rows x 6 columns]"
            ]
          },
          "metadata": {
            "tags": []
          },
          "execution_count": 63
        }
      ]
    },
    {
      "cell_type": "code",
      "metadata": {
        "id": "wH2O9uE__KBr",
        "colab_type": "code",
        "colab": {
          "base_uri": "https://localhost:8080/",
          "height": 283
        },
        "outputId": "356c312e-0f7d-4b29-e137-9ab386594ed8"
      },
      "source": [
        "import seaborn as sns\n",
        "import matplotlib.pyplot as plt\n",
        "\n",
        "jobflag_vals = submission.flag.value_counts()\n",
        "sns.barplot(jobflag_vals.index, jobflag_vals)\n",
        "plt.gca().set_ylabel('samples')"
      ],
      "execution_count": 70,
      "outputs": [
        {
          "output_type": "execute_result",
          "data": {
            "text/plain": [
              "Text(0, 0.5, 'samples')"
            ]
          },
          "metadata": {
            "tags": []
          },
          "execution_count": 70
        },
        {
          "output_type": "display_data",
          "data": {
            "image/png": "[encoded data removed]",
            "text/plain": [
              "<Figure size 432x288 with 1 Axes>"
            ]
          },
          "metadata": {
            "tags": [],
            "needs_background": "light"
          }
        }
      ]
    },
    {
      "cell_type": "code",
      "metadata": {
        "id": "zsAwijHD-Djo",
        "colab_type": "code",
        "colab": {
          "base_uri": "https://localhost:8080/",
          "height": 17
        },
        "outputId": "b9ef86cb-a9be-4311-fe0d-63243cf353a9"
      },
      "source": [
        "submission.to_csv('balanced_LR.csv', index=False)\n",
        "\n",
        "from google.colab import files\n",
        "files.download('balanced_LR.csv')"
      ],
      "execution_count": 72,
      "outputs": [
        {
          "output_type": "display_data",
          "data": {
            "application/javascript": [
              "\n",
              "    async function download(id, filename, size) {\n",
              "      if (!google.colab.kernel.accessAllowed) {\n",
              "        return;\n",
              "      }\n",
              "      const div = document.createElement('div');\n",
              "      const label = document.createElement('label');\n",
              "      label.textContent = `Downloading \"${filename}\": `;\n",
              "      div.appendChild(label);\n",
              "      const progress = document.createElement('progress');\n",
              "      progress.max = size;\n",
              "      div.appendChild(progress);\n",
              "      document.body.appendChild(div);\n",
              "\n",
              "      const buffers = [];\n",
              "      let downloaded = 0;\n",
              "\n",
              "      const channel = await google.colab.kernel.comms.open(id);\n",
              "      // Send a message to notify the kernel that we're ready.\n",
              "      channel.send({})\n",
              "\n",
              "      for await (const message of channel.messages) {\n",
              "        // Send a message to notify the kernel that we're ready.\n",
              "        channel.send({})\n",
              "        if (message.buffers) {\n",
              "          for (const buffer of message.buffers) {\n",
              "            buffers.push(buffer);\n",
              "            downloaded += buffer.byteLength;\n",
              "            progress.value = downloaded;\n",
              "          }\n",
              "        }\n",
              "      }\n",
              "      const blob = new Blob(buffers, {type: 'application/binary'});\n",
              "      const a = document.createElement('a');\n",
              "      a.href = window.URL.createObjectURL(blob);\n",
              "      a.download = filename;\n",
              "      div.appendChild(a);\n",
              "      a.click();\n",
              "      div.remove();\n",
              "    }\n",
              "  "
            ],
            "text/plain": [
              "<IPython.core.display.Javascript object>"
            ]
          },
          "metadata": {
            "tags": []
          }
        },
        {
          "output_type": "display_data",
          "data": {
            "application/javascript": [
              "download(\"download_2a6e4804-a9ce-4220-be0a-4f4ea163378e\", \"balanced_LR.csv\", 146411)"
            ],
            "text/plain": [
              "<IPython.core.display.Javascript object>"
            ]
          },
          "metadata": {
            "tags": []
          }
        }
      ]
    }
  ]
}
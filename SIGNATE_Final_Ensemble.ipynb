{
  "nbformat": 4,
  "nbformat_minor": 0,
  "metadata": {
    "colab": {
      "name": "SIGNATE Final Ensemble.ipynb",
      "provenance": [],
      "collapsed_sections": [],
      "mount_file_id": "1w3qfR-kCuXNWiU7ezjxXAlJGmkdsuaK2",
      "authorship_tag": "ABX9TyOmVRNcG88NUhy4HjC9Cavu"
    },
    "kernelspec": {
      "name": "python3",
      "display_name": "Python 3"
    }
  },
  "cells": [
    {
      "cell_type": "code",
      "metadata": {
        "id": "eNq8S-uGWUam",
        "colab_type": "code",
        "colab": {}
      },
      "source": [
        "import numpy as np\n",
        "import pandas as pd"
      ],
      "execution_count": 1,
      "outputs": []
    },
    {
      "cell_type": "code",
      "metadata": {
        "id": "K3O_BMIPWiYc",
        "colab_type": "code",
        "colab": {}
      },
      "source": [
        "a = pd.read_csv('./drive/My Drive/SIGNATE/damedesyo.csv', header=None, names=['id', 'flag'])\n",
        "b = pd.read_csv('./drive/My Drive/SIGNATE/hidoi.csv', header=None, names=['id', 'flag'])\n",
        "c = pd.read_csv('./drive/My Drive/SIGNATE/824rf.csv', header=None, names=['id', 'flag'])"
      ],
      "execution_count": 13,
      "outputs": []
    },
    {
      "cell_type": "code",
      "metadata": {
        "id": "htBCUAXjXB4W",
        "colab_type": "code",
        "colab": {
          "base_uri": "https://localhost:8080/",
          "height": 407
        },
        "outputId": "da62752b-6965-4f28-8d37-60e8a02b9dee"
      },
      "source": [
        "a"
      ],
      "execution_count": 14,
      "outputs": [
        {
          "output_type": "execute_result",
          "data": {
            "text/html": [
              "<div>\n",
              "<style scoped>\n",
              "    .dataframe tbody tr th:only-of-type {\n",
              "        vertical-align: middle;\n",
              "    }\n",
              "\n",
              "    .dataframe tbody tr th {\n",
              "        vertical-align: top;\n",
              "    }\n",
              "\n",
              "    .dataframe thead th {\n",
              "        text-align: right;\n",
              "    }\n",
              "</style>\n",
              "<table border=\"1\" class=\"dataframe\">\n",
              "  <thead>\n",
              "    <tr style=\"text-align: right;\">\n",
              "      <th></th>\n",
              "      <th>id</th>\n",
              "      <th>flag</th>\n",
              "    </tr>\n",
              "  </thead>\n",
              "  <tbody>\n",
              "    <tr>\n",
              "      <th>0</th>\n",
              "      <td>2931</td>\n",
              "      <td>4</td>\n",
              "    </tr>\n",
              "    <tr>\n",
              "      <th>1</th>\n",
              "      <td>2932</td>\n",
              "      <td>3</td>\n",
              "    </tr>\n",
              "    <tr>\n",
              "      <th>2</th>\n",
              "      <td>2933</td>\n",
              "      <td>2</td>\n",
              "    </tr>\n",
              "    <tr>\n",
              "      <th>3</th>\n",
              "      <td>2934</td>\n",
              "      <td>1</td>\n",
              "    </tr>\n",
              "    <tr>\n",
              "      <th>4</th>\n",
              "      <td>2935</td>\n",
              "      <td>4</td>\n",
              "    </tr>\n",
              "    <tr>\n",
              "      <th>...</th>\n",
              "      <td>...</td>\n",
              "      <td>...</td>\n",
              "    </tr>\n",
              "    <tr>\n",
              "      <th>1738</th>\n",
              "      <td>4669</td>\n",
              "      <td>1</td>\n",
              "    </tr>\n",
              "    <tr>\n",
              "      <th>1739</th>\n",
              "      <td>4670</td>\n",
              "      <td>4</td>\n",
              "    </tr>\n",
              "    <tr>\n",
              "      <th>1740</th>\n",
              "      <td>4671</td>\n",
              "      <td>1</td>\n",
              "    </tr>\n",
              "    <tr>\n",
              "      <th>1741</th>\n",
              "      <td>4672</td>\n",
              "      <td>4</td>\n",
              "    </tr>\n",
              "    <tr>\n",
              "      <th>1742</th>\n",
              "      <td>4673</td>\n",
              "      <td>3</td>\n",
              "    </tr>\n",
              "  </tbody>\n",
              "</table>\n",
              "<p>1743 rows × 2 columns</p>\n",
              "</div>"
            ],
            "text/plain": [
              "        id  flag\n",
              "0     2931     4\n",
              "1     2932     3\n",
              "2     2933     2\n",
              "3     2934     1\n",
              "4     2935     4\n",
              "...    ...   ...\n",
              "1738  4669     1\n",
              "1739  4670     4\n",
              "1740  4671     1\n",
              "1741  4672     4\n",
              "1742  4673     3\n",
              "\n",
              "[1743 rows x 2 columns]"
            ]
          },
          "metadata": {
            "tags": []
          },
          "execution_count": 14
        }
      ]
    },
    {
      "cell_type": "code",
      "metadata": {
        "id": "bSU72p1aXDNp",
        "colab_type": "code",
        "colab": {
          "base_uri": "https://localhost:8080/",
          "height": 407
        },
        "outputId": "c9495e47-8d76-46f4-f63e-2006bfc4bb3a"
      },
      "source": [
        "b"
      ],
      "execution_count": 15,
      "outputs": [
        {
          "output_type": "execute_result",
          "data": {
            "text/html": [
              "<div>\n",
              "<style scoped>\n",
              "    .dataframe tbody tr th:only-of-type {\n",
              "        vertical-align: middle;\n",
              "    }\n",
              "\n",
              "    .dataframe tbody tr th {\n",
              "        vertical-align: top;\n",
              "    }\n",
              "\n",
              "    .dataframe thead th {\n",
              "        text-align: right;\n",
              "    }\n",
              "</style>\n",
              "<table border=\"1\" class=\"dataframe\">\n",
              "  <thead>\n",
              "    <tr style=\"text-align: right;\">\n",
              "      <th></th>\n",
              "      <th>id</th>\n",
              "      <th>flag</th>\n",
              "    </tr>\n",
              "  </thead>\n",
              "  <tbody>\n",
              "    <tr>\n",
              "      <th>0</th>\n",
              "      <td>2931</td>\n",
              "      <td>4</td>\n",
              "    </tr>\n",
              "    <tr>\n",
              "      <th>1</th>\n",
              "      <td>2932</td>\n",
              "      <td>3</td>\n",
              "    </tr>\n",
              "    <tr>\n",
              "      <th>2</th>\n",
              "      <td>2933</td>\n",
              "      <td>2</td>\n",
              "    </tr>\n",
              "    <tr>\n",
              "      <th>3</th>\n",
              "      <td>2934</td>\n",
              "      <td>1</td>\n",
              "    </tr>\n",
              "    <tr>\n",
              "      <th>4</th>\n",
              "      <td>2935</td>\n",
              "      <td>4</td>\n",
              "    </tr>\n",
              "    <tr>\n",
              "      <th>...</th>\n",
              "      <td>...</td>\n",
              "      <td>...</td>\n",
              "    </tr>\n",
              "    <tr>\n",
              "      <th>1738</th>\n",
              "      <td>4669</td>\n",
              "      <td>1</td>\n",
              "    </tr>\n",
              "    <tr>\n",
              "      <th>1739</th>\n",
              "      <td>4670</td>\n",
              "      <td>4</td>\n",
              "    </tr>\n",
              "    <tr>\n",
              "      <th>1740</th>\n",
              "      <td>4671</td>\n",
              "      <td>1</td>\n",
              "    </tr>\n",
              "    <tr>\n",
              "      <th>1741</th>\n",
              "      <td>4672</td>\n",
              "      <td>4</td>\n",
              "    </tr>\n",
              "    <tr>\n",
              "      <th>1742</th>\n",
              "      <td>4673</td>\n",
              "      <td>3</td>\n",
              "    </tr>\n",
              "  </tbody>\n",
              "</table>\n",
              "<p>1743 rows × 2 columns</p>\n",
              "</div>"
            ],
            "text/plain": [
              "        id  flag\n",
              "0     2931     4\n",
              "1     2932     3\n",
              "2     2933     2\n",
              "3     2934     1\n",
              "4     2935     4\n",
              "...    ...   ...\n",
              "1738  4669     1\n",
              "1739  4670     4\n",
              "1740  4671     1\n",
              "1741  4672     4\n",
              "1742  4673     3\n",
              "\n",
              "[1743 rows x 2 columns]"
            ]
          },
          "metadata": {
            "tags": []
          },
          "execution_count": 15
        }
      ]
    },
    {
      "cell_type": "code",
      "metadata": {
        "id": "SSq8bTnRXD9c",
        "colab_type": "code",
        "colab": {
          "base_uri": "https://localhost:8080/",
          "height": 407
        },
        "outputId": "7efbde1c-22bd-43e8-90d0-72e0655ef85f"
      },
      "source": [
        "c"
      ],
      "execution_count": 16,
      "outputs": [
        {
          "output_type": "execute_result",
          "data": {
            "text/html": [
              "<div>\n",
              "<style scoped>\n",
              "    .dataframe tbody tr th:only-of-type {\n",
              "        vertical-align: middle;\n",
              "    }\n",
              "\n",
              "    .dataframe tbody tr th {\n",
              "        vertical-align: top;\n",
              "    }\n",
              "\n",
              "    .dataframe thead th {\n",
              "        text-align: right;\n",
              "    }\n",
              "</style>\n",
              "<table border=\"1\" class=\"dataframe\">\n",
              "  <thead>\n",
              "    <tr style=\"text-align: right;\">\n",
              "      <th></th>\n",
              "      <th>id</th>\n",
              "      <th>flag</th>\n",
              "    </tr>\n",
              "  </thead>\n",
              "  <tbody>\n",
              "    <tr>\n",
              "      <th>0</th>\n",
              "      <td>2931</td>\n",
              "      <td>2</td>\n",
              "    </tr>\n",
              "    <tr>\n",
              "      <th>1</th>\n",
              "      <td>2932</td>\n",
              "      <td>3</td>\n",
              "    </tr>\n",
              "    <tr>\n",
              "      <th>2</th>\n",
              "      <td>2933</td>\n",
              "      <td>3</td>\n",
              "    </tr>\n",
              "    <tr>\n",
              "      <th>3</th>\n",
              "      <td>2934</td>\n",
              "      <td>1</td>\n",
              "    </tr>\n",
              "    <tr>\n",
              "      <th>4</th>\n",
              "      <td>2935</td>\n",
              "      <td>4</td>\n",
              "    </tr>\n",
              "    <tr>\n",
              "      <th>...</th>\n",
              "      <td>...</td>\n",
              "      <td>...</td>\n",
              "    </tr>\n",
              "    <tr>\n",
              "      <th>1738</th>\n",
              "      <td>4669</td>\n",
              "      <td>1</td>\n",
              "    </tr>\n",
              "    <tr>\n",
              "      <th>1739</th>\n",
              "      <td>4670</td>\n",
              "      <td>4</td>\n",
              "    </tr>\n",
              "    <tr>\n",
              "      <th>1740</th>\n",
              "      <td>4671</td>\n",
              "      <td>4</td>\n",
              "    </tr>\n",
              "    <tr>\n",
              "      <th>1741</th>\n",
              "      <td>4672</td>\n",
              "      <td>3</td>\n",
              "    </tr>\n",
              "    <tr>\n",
              "      <th>1742</th>\n",
              "      <td>4673</td>\n",
              "      <td>3</td>\n",
              "    </tr>\n",
              "  </tbody>\n",
              "</table>\n",
              "<p>1743 rows × 2 columns</p>\n",
              "</div>"
            ],
            "text/plain": [
              "        id  flag\n",
              "0     2931     2\n",
              "1     2932     3\n",
              "2     2933     3\n",
              "3     2934     1\n",
              "4     2935     4\n",
              "...    ...   ...\n",
              "1738  4669     1\n",
              "1739  4670     4\n",
              "1740  4671     4\n",
              "1741  4672     3\n",
              "1742  4673     3\n",
              "\n",
              "[1743 rows x 2 columns]"
            ]
          },
          "metadata": {
            "tags": []
          },
          "execution_count": 16
        }
      ]
    },
    {
      "cell_type": "code",
      "metadata": {
        "id": "L5p7T2jyXEdJ",
        "colab_type": "code",
        "colab": {}
      },
      "source": [
        "sub = pd.DataFrame()\n",
        "sub['id'] = a['id']\n",
        "sub['a'] = a['flag']\n",
        "sub['b'] = b['flag']\n",
        "sub['c'] = c['flag']\n",
        "sub['voting'] = 0"
      ],
      "execution_count": 19,
      "outputs": []
    },
    {
      "cell_type": "code",
      "metadata": {
        "id": "Dift90VjYH8t",
        "colab_type": "code",
        "colab": {
          "base_uri": "https://localhost:8080/",
          "height": 407
        },
        "outputId": "51a0df1c-626a-4657-e535-735c3ce4b3c6"
      },
      "source": [
        "sub"
      ],
      "execution_count": 20,
      "outputs": [
        {
          "output_type": "execute_result",
          "data": {
            "text/html": [
              "<div>\n",
              "<style scoped>\n",
              "    .dataframe tbody tr th:only-of-type {\n",
              "        vertical-align: middle;\n",
              "    }\n",
              "\n",
              "    .dataframe tbody tr th {\n",
              "        vertical-align: top;\n",
              "    }\n",
              "\n",
              "    .dataframe thead th {\n",
              "        text-align: right;\n",
              "    }\n",
              "</style>\n",
              "<table border=\"1\" class=\"dataframe\">\n",
              "  <thead>\n",
              "    <tr style=\"text-align: right;\">\n",
              "      <th></th>\n",
              "      <th>id</th>\n",
              "      <th>a</th>\n",
              "      <th>b</th>\n",
              "      <th>c</th>\n",
              "      <th>voting</th>\n",
              "    </tr>\n",
              "  </thead>\n",
              "  <tbody>\n",
              "    <tr>\n",
              "      <th>0</th>\n",
              "      <td>2931</td>\n",
              "      <td>4</td>\n",
              "      <td>4</td>\n",
              "      <td>2</td>\n",
              "      <td>0</td>\n",
              "    </tr>\n",
              "    <tr>\n",
              "      <th>1</th>\n",
              "      <td>2932</td>\n",
              "      <td>3</td>\n",
              "      <td>3</td>\n",
              "      <td>3</td>\n",
              "      <td>0</td>\n",
              "    </tr>\n",
              "    <tr>\n",
              "      <th>2</th>\n",
              "      <td>2933</td>\n",
              "      <td>2</td>\n",
              "      <td>2</td>\n",
              "      <td>3</td>\n",
              "      <td>0</td>\n",
              "    </tr>\n",
              "    <tr>\n",
              "      <th>3</th>\n",
              "      <td>2934</td>\n",
              "      <td>1</td>\n",
              "      <td>1</td>\n",
              "      <td>1</td>\n",
              "      <td>0</td>\n",
              "    </tr>\n",
              "    <tr>\n",
              "      <th>4</th>\n",
              "      <td>2935</td>\n",
              "      <td>4</td>\n",
              "      <td>4</td>\n",
              "      <td>4</td>\n",
              "      <td>0</td>\n",
              "    </tr>\n",
              "    <tr>\n",
              "      <th>...</th>\n",
              "      <td>...</td>\n",
              "      <td>...</td>\n",
              "      <td>...</td>\n",
              "      <td>...</td>\n",
              "      <td>...</td>\n",
              "    </tr>\n",
              "    <tr>\n",
              "      <th>1738</th>\n",
              "      <td>4669</td>\n",
              "      <td>1</td>\n",
              "      <td>1</td>\n",
              "      <td>1</td>\n",
              "      <td>0</td>\n",
              "    </tr>\n",
              "    <tr>\n",
              "      <th>1739</th>\n",
              "      <td>4670</td>\n",
              "      <td>4</td>\n",
              "      <td>4</td>\n",
              "      <td>4</td>\n",
              "      <td>0</td>\n",
              "    </tr>\n",
              "    <tr>\n",
              "      <th>1740</th>\n",
              "      <td>4671</td>\n",
              "      <td>1</td>\n",
              "      <td>1</td>\n",
              "      <td>4</td>\n",
              "      <td>0</td>\n",
              "    </tr>\n",
              "    <tr>\n",
              "      <th>1741</th>\n",
              "      <td>4672</td>\n",
              "      <td>4</td>\n",
              "      <td>4</td>\n",
              "      <td>3</td>\n",
              "      <td>0</td>\n",
              "    </tr>\n",
              "    <tr>\n",
              "      <th>1742</th>\n",
              "      <td>4673</td>\n",
              "      <td>3</td>\n",
              "      <td>3</td>\n",
              "      <td>3</td>\n",
              "      <td>0</td>\n",
              "    </tr>\n",
              "  </tbody>\n",
              "</table>\n",
              "<p>1743 rows × 5 columns</p>\n",
              "</div>"
            ],
            "text/plain": [
              "        id  a  b  c  voting\n",
              "0     2931  4  4  2       0\n",
              "1     2932  3  3  3       0\n",
              "2     2933  2  2  3       0\n",
              "3     2934  1  1  1       0\n",
              "4     2935  4  4  4       0\n",
              "...    ... .. .. ..     ...\n",
              "1738  4669  1  1  1       0\n",
              "1739  4670  4  4  4       0\n",
              "1740  4671  1  1  4       0\n",
              "1741  4672  4  4  3       0\n",
              "1742  4673  3  3  3       0\n",
              "\n",
              "[1743 rows x 5 columns]"
            ]
          },
          "metadata": {
            "tags": []
          },
          "execution_count": 20
        }
      ]
    },
    {
      "cell_type": "code",
      "metadata": {
        "id": "CKJiOOWYYcIX",
        "colab_type": "code",
        "colab": {}
      },
      "source": [
        "sub['voting'] = sub.mode(axis=1)[0]"
      ],
      "execution_count": 27,
      "outputs": []
    },
    {
      "cell_type": "code",
      "metadata": {
        "id": "DhAX3ThIYrT6",
        "colab_type": "code",
        "colab": {}
      },
      "source": [
        "sub['voting'] = pd.Series(sub['voting'], dtype='int64')"
      ],
      "execution_count": 29,
      "outputs": []
    },
    {
      "cell_type": "code",
      "metadata": {
        "id": "JmEFPCNYY9q5",
        "colab_type": "code",
        "colab": {
          "base_uri": "https://localhost:8080/",
          "height": 1000
        },
        "outputId": "c468b166-54f2-4506-b0fe-7f616253425b"
      },
      "source": [
        "for i in range(sub.shape[0]):\n",
        "    if sub['a'][i] != sub['voting'][i]:\n",
        "        print('{}, {}, {}, {}'.format(sub['a'][i], sub['b'][i], sub['c'][i], sub['voting'][i]))"
      ],
      "execution_count": 34,
      "outputs": [
        {
          "output_type": "stream",
          "text": [
            "1, 2, 2, 2\n",
            "4, 3, 3, 3\n",
            "2, 1, 4, 0\n",
            "2, 1, 1, 1\n",
            "2, 4, 4, 4\n",
            "4, 3, 3, 3\n",
            "3, 2, 2, 2\n",
            "1, 2, 2, 2\n",
            "4, 1, 1, 1\n",
            "2, 1, 3, 0\n",
            "2, 1, 1, 1\n",
            "3, 4, 2, 0\n",
            "2, 1, 1, 1\n",
            "2, 1, 3, 0\n",
            "4, 1, 1, 1\n",
            "4, 3, 3, 3\n",
            "4, 3, 2, 0\n",
            "2, 1, 1, 1\n",
            "3, 4, 2, 0\n",
            "2, 3, 3, 3\n",
            "2, 4, 4, 4\n",
            "2, 3, 3, 3\n",
            "2, 3, 4, 0\n",
            "2, 3, 3, 3\n",
            "2, 3, 3, 3\n",
            "3, 2, 2, 2\n",
            "1, 4, 2, 0\n",
            "2, 4, 4, 4\n",
            "2, 3, 3, 3\n",
            "1, 3, 3, 3\n",
            "3, 4, 4, 4\n",
            "3, 2, 2, 2\n",
            "2, 3, 3, 3\n",
            "3, 4, 4, 4\n",
            "4, 3, 2, 0\n",
            "4, 1, 1, 1\n",
            "2, 1, 1, 1\n",
            "1, 2, 2, 2\n",
            "2, 4, 3, 0\n",
            "3, 2, 2, 2\n",
            "1, 2, 2, 2\n",
            "1, 4, 4, 4\n",
            "3, 2, 4, 0\n",
            "2, 1, 1, 1\n",
            "3, 2, 2, 2\n",
            "2, 1, 4, 0\n",
            "4, 2, 2, 2\n",
            "3, 2, 2, 2\n",
            "2, 3, 3, 3\n",
            "3, 4, 2, 0\n",
            "3, 1, 1, 1\n",
            "3, 4, 4, 4\n",
            "3, 1, 4, 0\n",
            "1, 2, 2, 2\n",
            "2, 3, 4, 0\n",
            "1, 4, 4, 4\n",
            "2, 3, 1, 0\n",
            "3, 4, 4, 4\n",
            "3, 1, 2, 0\n",
            "4, 3, 2, 0\n",
            "1, 3, 3, 3\n",
            "3, 2, 2, 2\n",
            "1, 2, 2, 2\n",
            "4, 3, 3, 3\n",
            "4, 2, 1, 0\n",
            "4, 3, 3, 3\n",
            "4, 3, 3, 3\n",
            "2, 4, 4, 4\n",
            "4, 3, 3, 3\n",
            "2, 1, 3, 0\n",
            "2, 1, 1, 1\n",
            "2, 4, 3, 0\n",
            "4, 2, 3, 0\n",
            "2, 1, 1, 1\n",
            "4, 1, 3, 0\n",
            "2, 3, 3, 3\n",
            "2, 4, 4, 4\n",
            "3, 4, 2, 0\n",
            "3, 4, 4, 4\n",
            "2, 3, 3, 3\n",
            "3, 1, 4, 0\n",
            "2, 4, 4, 4\n",
            "2, 3, 4, 0\n",
            "1, 2, 2, 2\n",
            "1, 4, 4, 4\n",
            "1, 4, 4, 4\n",
            "2, 3, 4, 0\n",
            "3, 4, 4, 4\n",
            "3, 4, 4, 4\n",
            "2, 3, 3, 3\n",
            "1, 2, 2, 2\n",
            "1, 2, 2, 2\n",
            "2, 3, 3, 3\n",
            "3, 4, 4, 4\n",
            "4, 3, 3, 3\n",
            "2, 3, 1, 0\n",
            "4, 3, 3, 3\n",
            "4, 1, 1, 1\n",
            "3, 4, 4, 4\n",
            "1, 2, 2, 2\n",
            "4, 1, 2, 0\n",
            "1, 2, 2, 2\n",
            "4, 2, 2, 2\n",
            "3, 4, 4, 4\n",
            "2, 3, 4, 0\n",
            "3, 2, 1, 0\n",
            "1, 2, 2, 2\n",
            "1, 2, 2, 2\n"
          ],
          "name": "stdout"
        }
      ]
    },
    {
      "cell_type": "code",
      "metadata": {
        "id": "GdlBPUxXZfRn",
        "colab_type": "code",
        "colab": {}
      },
      "source": [
        "for i in range(sub.shape[0]):\n",
        "    if sub['voting'][i]==0:\n",
        "        sub['voting'][i] = sub['a'][i]"
      ],
      "execution_count": 35,
      "outputs": []
    },
    {
      "cell_type": "code",
      "metadata": {
        "id": "8HVRSkEiZoyU",
        "colab_type": "code",
        "colab": {
          "base_uri": "https://localhost:8080/",
          "height": 1000
        },
        "outputId": "e5770b1d-a19b-4368-eed9-2c06518eb818"
      },
      "source": [
        "for i in range(sub.shape[0]):\n",
        "    if sub['a'][i] != sub['voting'][i]:\n",
        "        print('{}, {}, {}, {}'.format(sub['a'][i], sub['b'][i], sub['c'][i], sub['voting'][i]))"
      ],
      "execution_count": 36,
      "outputs": [
        {
          "output_type": "stream",
          "text": [
            "1, 2, 2, 2\n",
            "4, 3, 3, 3\n",
            "2, 1, 1, 1\n",
            "2, 4, 4, 4\n",
            "4, 3, 3, 3\n",
            "3, 2, 2, 2\n",
            "1, 2, 2, 2\n",
            "4, 1, 1, 1\n",
            "2, 1, 1, 1\n",
            "2, 1, 1, 1\n",
            "4, 1, 1, 1\n",
            "4, 3, 3, 3\n",
            "2, 1, 1, 1\n",
            "2, 3, 3, 3\n",
            "2, 4, 4, 4\n",
            "2, 3, 3, 3\n",
            "2, 3, 3, 3\n",
            "2, 3, 3, 3\n",
            "3, 2, 2, 2\n",
            "2, 4, 4, 4\n",
            "2, 3, 3, 3\n",
            "1, 3, 3, 3\n",
            "3, 4, 4, 4\n",
            "3, 2, 2, 2\n",
            "2, 3, 3, 3\n",
            "3, 4, 4, 4\n",
            "4, 1, 1, 1\n",
            "2, 1, 1, 1\n",
            "1, 2, 2, 2\n",
            "3, 2, 2, 2\n",
            "1, 2, 2, 2\n",
            "1, 4, 4, 4\n",
            "2, 1, 1, 1\n",
            "3, 2, 2, 2\n",
            "4, 2, 2, 2\n",
            "3, 2, 2, 2\n",
            "2, 3, 3, 3\n",
            "3, 1, 1, 1\n",
            "3, 4, 4, 4\n",
            "1, 2, 2, 2\n",
            "1, 4, 4, 4\n",
            "3, 4, 4, 4\n",
            "1, 3, 3, 3\n",
            "3, 2, 2, 2\n",
            "1, 2, 2, 2\n",
            "4, 3, 3, 3\n",
            "4, 3, 3, 3\n",
            "4, 3, 3, 3\n",
            "2, 4, 4, 4\n",
            "4, 3, 3, 3\n",
            "2, 1, 1, 1\n",
            "2, 1, 1, 1\n",
            "2, 3, 3, 3\n",
            "2, 4, 4, 4\n",
            "3, 4, 4, 4\n",
            "2, 3, 3, 3\n",
            "2, 4, 4, 4\n",
            "1, 2, 2, 2\n",
            "1, 4, 4, 4\n",
            "1, 4, 4, 4\n",
            "3, 4, 4, 4\n",
            "3, 4, 4, 4\n",
            "2, 3, 3, 3\n",
            "1, 2, 2, 2\n",
            "1, 2, 2, 2\n",
            "2, 3, 3, 3\n",
            "3, 4, 4, 4\n",
            "4, 3, 3, 3\n",
            "4, 3, 3, 3\n",
            "4, 1, 1, 1\n",
            "3, 4, 4, 4\n",
            "1, 2, 2, 2\n",
            "1, 2, 2, 2\n",
            "4, 2, 2, 2\n",
            "3, 4, 4, 4\n",
            "1, 2, 2, 2\n",
            "1, 2, 2, 2\n"
          ],
          "name": "stdout"
        }
      ]
    },
    {
      "cell_type": "code",
      "metadata": {
        "id": "2qTAYexIZvtz",
        "colab_type": "code",
        "colab": {
          "base_uri": "https://localhost:8080/",
          "height": 17
        },
        "outputId": "0f26e956-dc4c-4f35-968a-879bc96134e7"
      },
      "source": [
        "sub.to_csv('voting.csv', index=False)\n",
        "\n",
        "from google.colab import files\n",
        "files.download('voting.csv')"
      ],
      "execution_count": 37,
      "outputs": [
        {
          "output_type": "display_data",
          "data": {
            "application/javascript": [
              "\n",
              "    async function download(id, filename, size) {\n",
              "      if (!google.colab.kernel.accessAllowed) {\n",
              "        return;\n",
              "      }\n",
              "      const div = document.createElement('div');\n",
              "      const label = document.createElement('label');\n",
              "      label.textContent = `Downloading \"${filename}\": `;\n",
              "      div.appendChild(label);\n",
              "      const progress = document.createElement('progress');\n",
              "      progress.max = size;\n",
              "      div.appendChild(progress);\n",
              "      document.body.appendChild(div);\n",
              "\n",
              "      const buffers = [];\n",
              "      let downloaded = 0;\n",
              "\n",
              "      const channel = await google.colab.kernel.comms.open(id);\n",
              "      // Send a message to notify the kernel that we're ready.\n",
              "      channel.send({})\n",
              "\n",
              "      for await (const message of channel.messages) {\n",
              "        // Send a message to notify the kernel that we're ready.\n",
              "        channel.send({})\n",
              "        if (message.buffers) {\n",
              "          for (const buffer of message.buffers) {\n",
              "            buffers.push(buffer);\n",
              "            downloaded += buffer.byteLength;\n",
              "            progress.value = downloaded;\n",
              "          }\n",
              "        }\n",
              "      }\n",
              "      const blob = new Blob(buffers, {type: 'application/binary'});\n",
              "      const a = document.createElement('a');\n",
              "      a.href = window.URL.createObjectURL(blob);\n",
              "      a.download = filename;\n",
              "      div.appendChild(a);\n",
              "      a.click();\n",
              "      div.remove();\n",
              "    }\n",
              "  "
            ],
            "text/plain": [
              "<IPython.core.display.Javascript object>"
            ]
          },
          "metadata": {
            "tags": []
          }
        },
        {
          "output_type": "display_data",
          "data": {
            "application/javascript": [
              "download(\"download_25ce7104-355b-4273-9daf-06eb56fdefce\", \"voting.csv\", 22675)"
            ],
            "text/plain": [
              "<IPython.core.display.Javascript object>"
            ]
          },
          "metadata": {
            "tags": []
          }
        }
      ]
    },
    {
      "cell_type": "code",
      "metadata": {
        "id": "CmJukV9GZ9Ep",
        "colab_type": "code",
        "colab": {
          "base_uri": "https://localhost:8080/",
          "height": 299
        },
        "outputId": "dc8f4b04-3942-48f3-a7c6-a0e0b09c1dcd"
      },
      "source": [
        "import seaborn as sns\n",
        "import matplotlib.pyplot as plt\n",
        "\n",
        "flag = sub.voting.value_counts()\n",
        "sns.barplot(flag.index, flag)\n",
        "plt.gca().set_ylabel('samples')\n",
        "plt.gca().set_title('voting')"
      ],
      "execution_count": 42,
      "outputs": [
        {
          "output_type": "execute_result",
          "data": {
            "text/plain": [
              "Text(0.5, 1.0, 'voting')"
            ]
          },
          "metadata": {
            "tags": []
          },
          "execution_count": 42
        },
        {
          "output_type": "display_data",
          "data": {
            "image/png": "[encoded data removed]",
            "text/plain": [
              "<Figure size 432x288 with 1 Axes>"
            ]
          },
          "metadata": {
            "tags": [],
            "needs_background": "light"
          }
        }
      ]
    }
  ]
}